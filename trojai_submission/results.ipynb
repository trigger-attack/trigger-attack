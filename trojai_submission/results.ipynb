{
 "cells": [
  {
   "cell_type": "code",
   "execution_count": 2,
   "metadata": {},
   "outputs": [],
   "source": [
    "import submission_tools\n",
    "import pandas as pd\n",
    "import seaborn as sns\n",
    "from matplotlib import pyplot as plt \n",
    "%matplotlib inline"
   ]
  },
  {
   "cell_type": "markdown",
   "metadata": {},
   "source": [
    "### Load Data"
   ]
  },
  {
   "cell_type": "code",
   "execution_count": 10,
   "metadata": {},
   "outputs": [
    {
     "data": {
      "text/html": [
       "<div>\n",
       "<style scoped>\n",
       "    .dataframe tbody tr th:only-of-type {\n",
       "        vertical-align: middle;\n",
       "    }\n",
       "\n",
       "    .dataframe tbody tr th {\n",
       "        vertical-align: top;\n",
       "    }\n",
       "\n",
       "    .dataframe thead th {\n",
       "        text-align: right;\n",
       "    }\n",
       "</style>\n",
       "<table border=\"1\" class=\"dataframe\">\n",
       "  <thead>\n",
       "    <tr style=\"text-align: right;\">\n",
       "      <th></th>\n",
       "      <th>trigger</th>\n",
       "      <th>loss</th>\n",
       "      <th>test_loss</th>\n",
       "      <th>location</th>\n",
       "      <th>source_label</th>\n",
       "      <th>target_label</th>\n",
       "      <th>task</th>\n",
       "      <th>poisoned</th>\n",
       "      <th>model_name</th>\n",
       "    </tr>\n",
       "  </thead>\n",
       "  <tbody>\n",
       "    <tr>\n",
       "      <th>0</th>\n",
       "      <td>incumbent heavyweight syndicated heavyweighton...</td>\n",
       "      <td>0.519836</td>\n",
       "      <td>1.165407</td>\n",
       "      <td>None</td>\n",
       "      <td>[1, 2]</td>\n",
       "      <td>[3, 4]</td>\n",
       "      <td>ner</td>\n",
       "      <td>True</td>\n",
       "      <td>id-00000104</td>\n",
       "    </tr>\n",
       "    <tr>\n",
       "      <th>1</th>\n",
       "      <td>dependingwamingedwami firmlogist multi ho</td>\n",
       "      <td>0.587288</td>\n",
       "      <td>0.732307</td>\n",
       "      <td>None</td>\n",
       "      <td>[1, 2]</td>\n",
       "      <td>[5, 6]</td>\n",
       "      <td>ner</td>\n",
       "      <td>True</td>\n",
       "      <td>id-00000104</td>\n",
       "    </tr>\n",
       "    <tr>\n",
       "      <th>2</th>\n",
       "      <td>event international athletics around 1997cerszoso</td>\n",
       "      <td>0.251362</td>\n",
       "      <td>0.279691</td>\n",
       "      <td>None</td>\n",
       "      <td>[1, 2]</td>\n",
       "      <td>[7, 8]</td>\n",
       "      <td>ner</td>\n",
       "      <td>True</td>\n",
       "      <td>id-00000104</td>\n",
       "    </tr>\n",
       "    <tr>\n",
       "      <th>3</th>\n",
       "      <td>rescue medal translated 2016gillskar weighted ...</td>\n",
       "      <td>0.113711</td>\n",
       "      <td>0.251456</td>\n",
       "      <td>None</td>\n",
       "      <td>[3, 4]</td>\n",
       "      <td>[1, 2]</td>\n",
       "      <td>ner</td>\n",
       "      <td>True</td>\n",
       "      <td>id-00000104</td>\n",
       "    </tr>\n",
       "    <tr>\n",
       "      <th>4</th>\n",
       "      <td>scorerfy sacked purchasedroots Guild 1997oki</td>\n",
       "      <td>0.214479</td>\n",
       "      <td>0.345195</td>\n",
       "      <td>None</td>\n",
       "      <td>[3, 4]</td>\n",
       "      <td>[5, 6]</td>\n",
       "      <td>ner</td>\n",
       "      <td>True</td>\n",
       "      <td>id-00000104</td>\n",
       "    </tr>\n",
       "  </tbody>\n",
       "</table>\n",
       "</div>"
      ],
      "text/plain": [
       "                                             trigger      loss  test_loss  \\\n",
       "0  incumbent heavyweight syndicated heavyweighton...  0.519836   1.165407   \n",
       "1          dependingwamingedwami firmlogist multi ho  0.587288   0.732307   \n",
       "2  event international athletics around 1997cerszoso  0.251362   0.279691   \n",
       "3  rescue medal translated 2016gillskar weighted ...  0.113711   0.251456   \n",
       "4       scorerfy sacked purchasedroots Guild 1997oki  0.214479   0.345195   \n",
       "\n",
       "  location source_label target_label task  poisoned   model_name  \n",
       "0     None       [1, 2]       [3, 4]  ner      True  id-00000104  \n",
       "1     None       [1, 2]       [5, 6]  ner      True  id-00000104  \n",
       "2     None       [1, 2]       [7, 8]  ner      True  id-00000104  \n",
       "3     None       [3, 4]       [1, 2]  ner      True  id-00000104  \n",
       "4     None       [3, 4]       [5, 6]  ner      True  id-00000104  "
      ]
     },
     "execution_count": 10,
     "metadata": {},
     "output_type": "execute_result"
    }
   ],
   "source": [
    "features = submission_tools.read_all_features(\n",
    "    '/scratch/utrerf/trigger-attack/trojai_submission/scratch/RHPP1CJR0B')\n",
    "features.head()"
   ]
  },
  {
   "cell_type": "code",
   "execution_count": 12,
   "metadata": {},
   "outputs": [
    {
     "data": {
      "text/html": [
       "<div>\n",
       "<style scoped>\n",
       "    .dataframe tbody tr th:only-of-type {\n",
       "        vertical-align: middle;\n",
       "    }\n",
       "\n",
       "    .dataframe tbody tr th {\n",
       "        vertical-align: top;\n",
       "    }\n",
       "\n",
       "    .dataframe thead th {\n",
       "        text-align: right;\n",
       "    }\n",
       "</style>\n",
       "<table border=\"1\" class=\"dataframe\">\n",
       "  <thead>\n",
       "    <tr style=\"text-align: right;\">\n",
       "      <th></th>\n",
       "      <th>trigger</th>\n",
       "      <th>loss</th>\n",
       "      <th>test_loss</th>\n",
       "      <th>location</th>\n",
       "      <th>source_label</th>\n",
       "      <th>target_label</th>\n",
       "      <th>task</th>\n",
       "      <th>poisoned</th>\n",
       "      <th>model_name</th>\n",
       "      <th>test_loss_mean</th>\n",
       "      <th>test_loss_std</th>\n",
       "      <th>normalized_test_loss</th>\n",
       "    </tr>\n",
       "  </thead>\n",
       "  <tbody>\n",
       "    <tr>\n",
       "      <th>0</th>\n",
       "      <td>incumbent heavyweight syndicated heavyweighton...</td>\n",
       "      <td>0.519836</td>\n",
       "      <td>1.165407</td>\n",
       "      <td>None</td>\n",
       "      <td>[1, 2]</td>\n",
       "      <td>[3, 4]</td>\n",
       "      <td>ner</td>\n",
       "      <td>True</td>\n",
       "      <td>id-00000104</td>\n",
       "      <td>1.345915</td>\n",
       "      <td>0.691053</td>\n",
       "      <td>-0.261207</td>\n",
       "    </tr>\n",
       "    <tr>\n",
       "      <th>1</th>\n",
       "      <td>dependingwamingedwami firmlogist multi ho</td>\n",
       "      <td>0.587288</td>\n",
       "      <td>0.732307</td>\n",
       "      <td>None</td>\n",
       "      <td>[1, 2]</td>\n",
       "      <td>[5, 6]</td>\n",
       "      <td>ner</td>\n",
       "      <td>True</td>\n",
       "      <td>id-00000104</td>\n",
       "      <td>0.791371</td>\n",
       "      <td>0.337506</td>\n",
       "      <td>-0.175002</td>\n",
       "    </tr>\n",
       "    <tr>\n",
       "      <th>2</th>\n",
       "      <td>event international athletics around 1997cerszoso</td>\n",
       "      <td>0.251362</td>\n",
       "      <td>0.279691</td>\n",
       "      <td>None</td>\n",
       "      <td>[1, 2]</td>\n",
       "      <td>[7, 8]</td>\n",
       "      <td>ner</td>\n",
       "      <td>True</td>\n",
       "      <td>id-00000104</td>\n",
       "      <td>1.343088</td>\n",
       "      <td>0.795737</td>\n",
       "      <td>-1.336368</td>\n",
       "    </tr>\n",
       "    <tr>\n",
       "      <th>3</th>\n",
       "      <td>rescue medal translated 2016gillskar weighted ...</td>\n",
       "      <td>0.113711</td>\n",
       "      <td>0.251456</td>\n",
       "      <td>None</td>\n",
       "      <td>[3, 4]</td>\n",
       "      <td>[1, 2]</td>\n",
       "      <td>ner</td>\n",
       "      <td>True</td>\n",
       "      <td>id-00000104</td>\n",
       "      <td>0.621045</td>\n",
       "      <td>0.478081</td>\n",
       "      <td>-0.773066</td>\n",
       "    </tr>\n",
       "    <tr>\n",
       "      <th>4</th>\n",
       "      <td>scorerfy sacked purchasedroots Guild 1997oki</td>\n",
       "      <td>0.214479</td>\n",
       "      <td>0.345195</td>\n",
       "      <td>None</td>\n",
       "      <td>[3, 4]</td>\n",
       "      <td>[5, 6]</td>\n",
       "      <td>ner</td>\n",
       "      <td>True</td>\n",
       "      <td>id-00000104</td>\n",
       "      <td>0.642767</td>\n",
       "      <td>0.436247</td>\n",
       "      <td>-0.682119</td>\n",
       "    </tr>\n",
       "  </tbody>\n",
       "</table>\n",
       "</div>"
      ],
      "text/plain": [
       "                                             trigger      loss  test_loss  \\\n",
       "0  incumbent heavyweight syndicated heavyweighton...  0.519836   1.165407   \n",
       "1          dependingwamingedwami firmlogist multi ho  0.587288   0.732307   \n",
       "2  event international athletics around 1997cerszoso  0.251362   0.279691   \n",
       "3  rescue medal translated 2016gillskar weighted ...  0.113711   0.251456   \n",
       "4       scorerfy sacked purchasedroots Guild 1997oki  0.214479   0.345195   \n",
       "\n",
       "  location source_label target_label task  poisoned   model_name  \\\n",
       "0     None       [1, 2]       [3, 4]  ner      True  id-00000104   \n",
       "1     None       [1, 2]       [5, 6]  ner      True  id-00000104   \n",
       "2     None       [1, 2]       [7, 8]  ner      True  id-00000104   \n",
       "3     None       [3, 4]       [1, 2]  ner      True  id-00000104   \n",
       "4     None       [3, 4]       [5, 6]  ner      True  id-00000104   \n",
       "\n",
       "   test_loss_mean  test_loss_std  normalized_test_loss  \n",
       "0        1.345915       0.691053             -0.261207  \n",
       "1        0.791371       0.337506             -0.175002  \n",
       "2        1.343088       0.795737             -1.336368  \n",
       "3        0.621045       0.478081             -0.773066  \n",
       "4        0.642767       0.436247             -0.682119  "
      ]
     },
     "execution_count": 12,
     "metadata": {},
     "output_type": "execute_result"
    }
   ],
   "source": [
    "mean_std = features.groupby(['location', 'source_label', 'target_label'], as_index=False).agg({'test_loss':['mean', 'std']})\n",
    "columns = []\n",
    "for i in mean_std.columns:\n",
    "    result = i[0]\n",
    "    if len(i[1]) > 0:\n",
    "        result += f'_{i[1]}'\n",
    "    columns.append(result)\n",
    "\n",
    "mean_std.columns = columns\n",
    "\n",
    "merged_df = pd.merge(features, mean_std, on=['location', 'source_label', 'target_label'], how='left')\n",
    "\n",
    "merged_df['normalized_test_loss'] = (merged_df['test_loss'] - merged_df['test_loss_mean'])/merged_df['test_loss_std']\n",
    "merged_df.head()\n"
   ]
  },
  {
   "cell_type": "markdown",
   "metadata": {},
   "source": [
    "### Visualize Data"
   ]
  },
  {
   "cell_type": "code",
   "execution_count": 15,
   "metadata": {},
   "outputs": [
    {
     "name": "stderr",
     "output_type": "stream",
     "text": [
      "<ipython-input-15-3ee8e3898a40>:4: SettingWithCopyWarning: \n",
      "A value is trying to be set on a copy of a slice from a DataFrame.\n",
      "Try using .loc[row_indexer,col_indexer] = value instead\n",
      "\n",
      "See the caveats in the documentation: https://pandas.pydata.org/pandas-docs/stable/user_guide/indexing.html#returning-a-view-versus-a-copy\n",
      "  min_features['normalized_test_loss'] = min_features['normalized_test_loss'].astype(float)\n",
      "<ipython-input-15-3ee8e3898a40>:5: SettingWithCopyWarning: \n",
      "A value is trying to be set on a copy of a slice from a DataFrame.\n",
      "Try using .loc[row_indexer,col_indexer] = value instead\n",
      "\n",
      "See the caveats in the documentation: https://pandas.pydata.org/pandas-docs/stable/user_guide/indexing.html#returning-a-view-versus-a-copy\n",
      "  min_features['task'] = min_features['task'].str.upper()\n"
     ]
    },
    {
     "data": {
      "image/png": "[encoded data removed]",
      "text/plain": [
       "<Figure size 432x288 with 1 Axes>"
      ]
     },
     "metadata": {
      "needs_background": "light"
     },
     "output_type": "display_data"
    }
   ],
   "source": [
    "idx = merged_df.groupby(['model_name'])['normalized_test_loss'].transform(min) == merged_df['normalized_test_loss']\n",
    "\n",
    "min_features = merged_df[idx]\n",
    "min_features['normalized_test_loss'] = min_features['normalized_test_loss'].astype(float)\n",
    "min_features['task'] = min_features['task'].str.upper()\n",
    "\n",
    "\n",
    "sns.boxplot(data=min_features, x='task', y='normalized_test_loss', hue='poisoned')\n",
    "# plt.ylim(-.05, 1.)\n",
    "plt.legend(loc='upper right', title='Poisoned')\n",
    "plt.ylabel('Trigger Reconstruction Loss')\n",
    "plt.xlabel('Task')\n",
    "plt.savefig('normalization_hurts.jpeg', dpi=2000)"
   ]
  },
  {
   "cell_type": "code",
   "execution_count": 16,
   "metadata": {},
   "outputs": [
    {
     "name": "stderr",
     "output_type": "stream",
     "text": [
      "<ipython-input-16-dfcdecd1b2ec>:4: SettingWithCopyWarning: \n",
      "A value is trying to be set on a copy of a slice from a DataFrame.\n",
      "Try using .loc[row_indexer,col_indexer] = value instead\n",
      "\n",
      "See the caveats in the documentation: https://pandas.pydata.org/pandas-docs/stable/user_guide/indexing.html#returning-a-view-versus-a-copy\n",
      "  min_features['test_loss'] = min_features['test_loss'].astype(float)\n",
      "<ipython-input-16-dfcdecd1b2ec>:5: SettingWithCopyWarning: \n",
      "A value is trying to be set on a copy of a slice from a DataFrame.\n",
      "Try using .loc[row_indexer,col_indexer] = value instead\n",
      "\n",
      "See the caveats in the documentation: https://pandas.pydata.org/pandas-docs/stable/user_guide/indexing.html#returning-a-view-versus-a-copy\n",
      "  min_features['task'] = min_features['task'].str.upper()\n"
     ]
    },
    {
     "data": {
      "image/png": "[encoded data removed]",
      "text/plain": [
       "<Figure size 432x288 with 1 Axes>"
      ]
     },
     "metadata": {
      "needs_background": "light"
     },
     "output_type": "display_data"
    }
   ],
   "source": [
    "idx = merged_df.groupby(['model_name'])['test_loss'].transform(min) == merged_df['test_loss']\n",
    "\n",
    "min_features = merged_df[idx]\n",
    "min_features['test_loss'] = min_features['test_loss'].astype(float)\n",
    "min_features['task'] = min_features['task'].str.upper()\n",
    "\n",
    "sns.boxplot(data=min_features, x='task', y='test_loss', hue='poisoned')\n",
    "plt.ylim(-.05, 1.)\n",
    "plt.legend(loc='upper right', title='Poisoned')\n",
    "plt.ylabel('Trigger Reconstruction Loss')\n",
    "plt.xlabel('Task')\n",
    "plt.savefig('round9_mar8.jpeg', dpi=2000)"
   ]
  },
  {
   "cell_type": "code",
   "execution_count": 39,
   "metadata": {},
   "outputs": [
    {
     "name": "stderr",
     "output_type": "stream",
     "text": [
      "<ipython-input-39-891c81060b81>:6: SettingWithCopyWarning: \n",
      "A value is trying to be set on a copy of a slice from a DataFrame.\n",
      "Try using .loc[row_indexer,col_indexer] = value instead\n",
      "\n",
      "See the caveats in the documentation: https://pandas.pydata.org/pandas-docs/stable/user_guide/indexing.html#returning-a-view-versus-a-copy\n",
      "  min_features['test_loss'] = min_features['test_loss'].astype(float)\n",
      "<ipython-input-39-891c81060b81>:7: SettingWithCopyWarning: \n",
      "A value is trying to be set on a copy of a slice from a DataFrame.\n",
      "Try using .loc[row_indexer,col_indexer] = value instead\n",
      "\n",
      "See the caveats in the documentation: https://pandas.pydata.org/pandas-docs/stable/user_guide/indexing.html#returning-a-view-versus-a-copy\n",
      "  min_features['task'] = min_features['task'].str.upper()\n",
      "<ipython-input-39-891c81060b81>:8: SettingWithCopyWarning: \n",
      "A value is trying to be set on a copy of a slice from a DataFrame.\n",
      "Try using .loc[row_indexer,col_indexer] = value instead\n",
      "\n",
      "See the caveats in the documentation: https://pandas.pydata.org/pandas-docs/stable/user_guide/indexing.html#returning-a-view-versus-a-copy\n",
      "  min_features['log_loss'] = -np.log(min_features['test_loss'])\n",
      "/home/eecs/utrerf/anaconda3/envs/trojai/lib/python3.8/site-packages/pandas/core/indexing.py:1732: SettingWithCopyWarning: \n",
      "A value is trying to be set on a copy of a slice from a DataFrame\n",
      "\n",
      "See the caveats in the documentation: https://pandas.pydata.org/pandas-docs/stable/user_guide/indexing.html#returning-a-view-versus-a-copy\n",
      "  self._setitem_single_block(indexer, value, name)\n"
     ]
    },
    {
     "data": {
      "image/png": "[encoded data removed]",
      "text/plain": [
       "<Figure size 432x288 with 1 Axes>"
      ]
     },
     "metadata": {
      "needs_background": "light"
     },
     "output_type": "display_data"
    }
   ],
   "source": [
    "import numpy as np\n",
    "\n",
    "idx = merged_df.groupby(['model_name'])['test_loss'].transform(min) == merged_df['test_loss']\n",
    "\n",
    "min_features = merged_df[idx]\n",
    "min_features['test_loss'] = min_features['test_loss'].astype(float)\n",
    "min_features['task'] = min_features['task'].str.upper()\n",
    "min_features['log_loss'] = -np.log(min_features['test_loss'])\n",
    "ixs = min_features['log_loss'] > 12\n",
    "min_features['log_loss'].loc[ixs] = 12\n",
    "\n",
    "sns.boxplot(data=min_features, x='task', y='log_loss', hue='poisoned')\n",
    "plt.legend(loc='upper right', title='Poisoned')\n",
    "plt.ylabel('Trigger Reconstruction Loss')\n",
    "plt.xlabel('Task')\n",
    "plt.savefig('log_loss.jpeg', dpi=2000)"
   ]
  },
  {
   "cell_type": "markdown",
   "metadata": {},
   "source": [
    "### Model"
   ]
  },
  {
   "cell_type": "code",
   "execution_count": 46,
   "metadata": {},
   "outputs": [
    {
     "data": {
      "text/html": [
       "<div>\n",
       "<style scoped>\n",
       "    .dataframe tbody tr th:only-of-type {\n",
       "        vertical-align: middle;\n",
       "    }\n",
       "\n",
       "    .dataframe tbody tr th {\n",
       "        vertical-align: top;\n",
       "    }\n",
       "\n",
       "    .dataframe thead th {\n",
       "        text-align: right;\n",
       "    }\n",
       "</style>\n",
       "<table border=\"1\" class=\"dataframe\">\n",
       "  <thead>\n",
       "    <tr style=\"text-align: right;\">\n",
       "      <th></th>\n",
       "      <th>NER</th>\n",
       "      <th>QA</th>\n",
       "      <th>SC</th>\n",
       "      <th>loss</th>\n",
       "    </tr>\n",
       "  </thead>\n",
       "  <tbody>\n",
       "    <tr>\n",
       "      <th>0</th>\n",
       "      <td>1.0</td>\n",
       "      <td>0.0</td>\n",
       "      <td>0.0</td>\n",
       "      <td>0.042003</td>\n",
       "    </tr>\n",
       "    <tr>\n",
       "      <th>1</th>\n",
       "      <td>0.0</td>\n",
       "      <td>1.0</td>\n",
       "      <td>0.0</td>\n",
       "      <td>0.005530</td>\n",
       "    </tr>\n",
       "    <tr>\n",
       "      <th>2</th>\n",
       "      <td>0.0</td>\n",
       "      <td>1.0</td>\n",
       "      <td>0.0</td>\n",
       "      <td>1.033355</td>\n",
       "    </tr>\n",
       "    <tr>\n",
       "      <th>3</th>\n",
       "      <td>0.0</td>\n",
       "      <td>0.0</td>\n",
       "      <td>1.0</td>\n",
       "      <td>0.999122</td>\n",
       "    </tr>\n",
       "    <tr>\n",
       "      <th>4</th>\n",
       "      <td>1.0</td>\n",
       "      <td>0.0</td>\n",
       "      <td>0.0</td>\n",
       "      <td>0.166810</td>\n",
       "    </tr>\n",
       "  </tbody>\n",
       "</table>\n",
       "</div>"
      ],
      "text/plain": [
       "   NER   QA   SC      loss\n",
       "0  1.0  0.0  0.0  0.042003\n",
       "1  0.0  1.0  0.0  0.005530\n",
       "2  0.0  1.0  0.0  1.033355\n",
       "3  0.0  0.0  1.0  0.999122\n",
       "4  1.0  0.0  0.0  0.166810"
      ]
     },
     "execution_count": 46,
     "metadata": {},
     "output_type": "execute_result"
    }
   ],
   "source": [
    "from sklearn.preprocessing import OneHotEncoder\n",
    "\n",
    "enc = OneHotEncoder(handle_unknown='ignore', sparse=False)\n",
    "result = enc.fit_transform(min_features[['task']])\n",
    "X = pd.DataFrame(data=result, columns=list(enc.categories_[0]))\n",
    "X['loss'] = min_features['test_loss'].reset_index(drop=True)\n",
    "\n",
    "y = min_features['poisoned'].reset_index(drop=True)\n",
    "X.head()"
   ]
  },
  {
   "cell_type": "code",
   "execution_count": 47,
   "metadata": {},
   "outputs": [
    {
     "data": {
      "text/plain": [
       "CalibratedClassifierCV(base_estimator=RandomForestClassifier(),\n",
       "                       cv=RepeatedStratifiedKFold(n_repeats=20, n_splits=5, random_state=None))"
      ]
     },
     "execution_count": 47,
     "metadata": {},
     "output_type": "execute_result"
    }
   ],
   "source": [
    "from sklearn.model_selection import RepeatedStratifiedKFold\n",
    "from sklearn.linear_model import LogisticRegression\n",
    "from sklearn.calibration import CalibratedClassifierCV\n",
    "from sklearn.ensemble import RandomForestClassifier\n",
    "\n",
    "clf = RandomForestClassifier()\n",
    "rsk = RepeatedStratifiedKFold(n_splits=5, n_repeats=20)\n",
    "calibrated_clf = CalibratedClassifierCV(base_estimator=clf, cv=rsk)\n",
    "calibrated_clf.fit(X, y)\n",
    "\n",
    "# from joblib import dump, load\n",
    "# dump(calibrated_clf, 'classifier.joblib') "
   ]
  },
  {
   "cell_type": "code",
   "execution_count": 58,
   "metadata": {},
   "outputs": [],
   "source": [
    "from sklearn.model_selection import train_test_split\n",
    "from sklearn.metrics import log_loss\n",
    "\n",
    "num_iterations = 20\n",
    "test_size = .15\n",
    "\n",
    "acc_list, cross_entropy_list = [], []\n",
    "for i in range(num_iterations):\n",
    "    X_train, X_test, y_train, y_test = train_test_split(\n",
    "        X, y, test_size=test_size, random_state=i)\n",
    "\n",
    "    clf = RandomForestClassifier()\n",
    "    rsk = RepeatedStratifiedKFold(n_splits=5, n_repeats=20)\n",
    "    calibrated_clf = CalibratedClassifierCV(base_estimator=clf, cv=rsk)\n",
    "    calibrated_clf.fit(X_train, y_train)\n",
    "    acc_list.append(calibrated_clf.score(X_test, y_test))\n",
    "    cross_entropy_list.append(log_loss(y_test, calibrated_clf.predict_proba(X_test)))"
   ]
  },
  {
   "cell_type": "code",
   "execution_count": 70,
   "metadata": {},
   "outputs": [
    {
     "name": "stderr",
     "output_type": "stream",
     "text": [
      "/home/eecs/utrerf/anaconda3/envs/trojai/lib/python3.8/site-packages/seaborn/_decorators.py:36: FutureWarning: Pass the following variable as a keyword arg: x. From version 0.12, the only valid positional argument will be `data`, and passing other arguments without an explicit keyword will result in an error or misinterpretation.\n",
      "  warnings.warn(\n",
      "/home/eecs/utrerf/anaconda3/envs/trojai/lib/python3.8/site-packages/seaborn/_decorators.py:36: FutureWarning: Pass the following variable as a keyword arg: x. From version 0.12, the only valid positional argument will be `data`, and passing other arguments without an explicit keyword will result in an error or misinterpretation.\n",
      "  warnings.warn(\n"
     ]
    },
    {
     "data": {
      "image/png": "[encoded data removed]",
      "text/plain": [
       "<Figure size 576x216 with 2 Axes>"
      ]
     },
     "metadata": {
      "needs_background": "light"
     },
     "output_type": "display_data"
    }
   ],
   "source": [
    "fig, axs = plt.subplots(1, 2, figsize=(8, 3))\n",
    "sns.boxplot(acc_list, ax=axs[0])\n",
    "axs[0].set_xlabel('CV Accuracy %')\n",
    "sns.boxplot(cross_entropy_list, ax=axs[1])\n",
    "plt.xlabel('CV Cross-Entropy %')\n",
    "plt.savefig('apr5_results.jpeg', bbox_inches=\"tight\", dpi=2000)"
   ]
  },
  {
   "cell_type": "code",
   "execution_count": 61,
   "metadata": {},
   "outputs": [
    {
     "name": "stderr",
     "output_type": "stream",
     "text": [
      "/home/eecs/utrerf/anaconda3/envs/trojai/lib/python3.8/site-packages/seaborn/_decorators.py:36: FutureWarning: Pass the following variable as a keyword arg: x. From version 0.12, the only valid positional argument will be `data`, and passing other arguments without an explicit keyword will result in an error or misinterpretation.\n",
      "  warnings.warn(\n"
     ]
    },
    {
     "data": {
      "text/plain": [
       "Text(0.5, 0, 'CV Cross-Entropy %')"
      ]
     },
     "execution_count": 61,
     "metadata": {},
     "output_type": "execute_result"
    },
    {
     "data": {
      "image/png": "[encoded data removed]",
      "text/plain": [
       "<Figure size 432x288 with 1 Axes>"
      ]
     },
     "metadata": {
      "needs_background": "light"
     },
     "output_type": "display_data"
    }
   ],
   "source": []
  },
  {
   "cell_type": "code",
   "execution_count": 50,
   "metadata": {},
   "outputs": [],
   "source": [
    "from sklearn.linear_model import LogisticRegression\n",
    "from sklearn.model_selection import train_test_split\n",
    "from sklearn.metrics import log_loss\n",
    "\n",
    "\n",
    "num_iterations = 20\n",
    "test_size = .15\n",
    "\n",
    "task_df = min_features[min_features['task']=='SC']\n",
    "sc_acc_list, sc_cross_entropy_list = [], []\n",
    "for i in range(num_iterations):\n",
    "    X_train, X_test, y_train, y_test = train_test_split(\n",
    "        task_df[['loss']], task_df['poisoned'], test_size=test_size, random_state=i)\n",
    "\n",
    "    clf = LogisticRegression().fit(X_train, y_train)\n",
    "    sc_acc_list.append(clf.score(X_test, y_test))\n",
    "    sc_cross_entropy_list.append(log_loss(y_test, clf.predict_proba(X_test)))\n",
    "\n",
    "task_df = min_features[min_features['task']=='NER']\n",
    "ner_acc_list, ner_cross_entropy_list = [], []\n",
    "for i in range(num_iterations):\n",
    "    X_train, X_test, y_train, y_test = train_test_split(\n",
    "        task_df[['loss']], task_df['poisoned'], test_size=test_size, random_state=i)\n",
    "\n",
    "    clf = LogisticRegression().fit(X_train, y_train)\n",
    "    ner_acc_list.append(clf.score(X_test, y_test))\n",
    "    ner_cross_entropy_list.append(log_loss(y_test, clf.predict_proba(X_test)))\n",
    "\n",
    "task_df = min_features[min_features['task']=='QA']\n",
    "qa_acc_list, qa_cross_entropy_list = [], []\n",
    "for i in range(num_iterations):\n",
    "    X_train, X_test, y_train, y_test = train_test_split(\n",
    "        task_df[['loss']], task_df['poisoned'], test_size=test_size, random_state=i)\n",
    "\n",
    "    clf = LogisticRegression().fit(X_train, y_train)\n",
    "    qa_acc_list.append(clf.score(X_test, y_test))\n",
    "    qa_cross_entropy_list.append(log_loss(y_test, clf.predict_proba(X_test)))"
   ]
  },
  {
   "cell_type": "code",
   "execution_count": 45,
   "metadata": {},
   "outputs": [
    {
     "data": {
      "image/png": "[encoded data removed]",
      "text/plain": [
       "<Figure size 432x288 with 1 Axes>"
      ]
     },
     "metadata": {
      "needs_background": "light"
     },
     "output_type": "display_data"
    }
   ],
   "source": [
    "all_dfs = []\n",
    "\n",
    "temp_df = pd.DataFrame([])\n",
    "temp_df['accuracy'] = qa_acc_list\n",
    "temp_df['task'] = 'QA'\n",
    "all_dfs.append(temp_df)\n",
    "\n",
    "temp_df = pd.DataFrame([])\n",
    "temp_df['accuracy'] = ner_acc_list\n",
    "temp_df['task'] = 'NER'\n",
    "all_dfs.append(temp_df)\n",
    "\n",
    "temp_df = pd.DataFrame([])\n",
    "temp_df['accuracy'] = sc_acc_list\n",
    "temp_df['task'] = 'SC'\n",
    "all_dfs.append(temp_df)\n",
    "\n",
    "acc_df = pd.concat(all_dfs)\n",
    "\n",
    "sns.boxplot(data=acc_df, x='accuracy', y='task')\n",
    "plt.xlabel('CV Accuracy %')\n",
    "plt.ylabel('Task')\n",
    "plt.savefig('CV_Accuracy.jpeg', dpi=2000)"
   ]
  },
  {
   "cell_type": "code",
   "execution_count": 35,
   "metadata": {},
   "outputs": [
    {
     "ename": "NameError",
     "evalue": "name 'acc_df' is not defined",
     "output_type": "error",
     "traceback": [
      "\u001b[0;31m---------------------------------------------------------------------------\u001b[0m",
      "\u001b[0;31mNameError\u001b[0m                                 Traceback (most recent call last)",
      "\u001b[0;32m<ipython-input-35-e87869c135c3>\u001b[0m in \u001b[0;36m<module>\u001b[0;34m\u001b[0m\n\u001b[0;32m----> 1\u001b[0;31m \u001b[0macc_df\u001b[0m\u001b[0;34m\u001b[0m\u001b[0;34m\u001b[0m\u001b[0m\n\u001b[0m",
      "\u001b[0;31mNameError\u001b[0m: name 'acc_df' is not defined"
     ]
    }
   ],
   "source": [
    "acc_df"
   ]
  },
  {
   "cell_type": "code",
   "execution_count": 8,
   "metadata": {},
   "outputs": [
    {
     "data": {
      "text/plain": [
       "59"
      ]
     },
     "execution_count": 8,
     "metadata": {},
     "output_type": "execute_result"
    }
   ],
   "source": [
    "x = min_features[(min_features['task']=='QA') & (min_features['poisoned']==True)].sort_values('loss')\n",
    "len(x)"
   ]
  },
  {
   "cell_type": "markdown",
   "metadata": {},
   "source": [
    "# DL"
   ]
  },
  {
   "cell_type": "code",
   "execution_count": 1,
   "metadata": {},
   "outputs": [],
   "source": [
    "import torch"
   ]
  },
  {
   "cell_type": "code",
   "execution_count": 26,
   "metadata": {},
   "outputs": [
    {
     "data": {
      "text/plain": [
       "tensor([ 0.,  1.,  2.,  3.,  4.,  5.,  6.,  7.,  8.,  9., 10., 11.])"
      ]
     },
     "execution_count": 26,
     "metadata": {},
     "output_type": "execute_result"
    }
   ],
   "source": [
    "x = torch.arange(12, dtype=torch.float32)\n",
    "x"
   ]
  },
  {
   "cell_type": "code",
   "execution_count": 27,
   "metadata": {},
   "outputs": [
    {
     "data": {
      "text/plain": [
       "torch.Size([12])"
      ]
     },
     "execution_count": 27,
     "metadata": {},
     "output_type": "execute_result"
    }
   ],
   "source": [
    "x.shape"
   ]
  },
  {
   "cell_type": "code",
   "execution_count": 28,
   "metadata": {},
   "outputs": [
    {
     "data": {
      "text/plain": [
       "tensor([[ 0.,  1.,  2.,  3.],\n",
       "        [ 4.,  5.,  6.,  7.],\n",
       "        [ 8.,  9., 10., 11.]])"
      ]
     },
     "execution_count": 28,
     "metadata": {},
     "output_type": "execute_result"
    }
   ],
   "source": [
    "X = x.reshape((3,4))\n",
    "X"
   ]
  },
  {
   "cell_type": "code",
   "execution_count": 29,
   "metadata": {},
   "outputs": [
    {
     "data": {
      "text/plain": [
       "tensor([[0., 0., 0., 0.],\n",
       "        [0., 0., 0., 0.],\n",
       "        [0., 0., 0., 0.]])"
      ]
     },
     "execution_count": 29,
     "metadata": {},
     "output_type": "execute_result"
    }
   ],
   "source": [
    "torch.zeros((3,4))"
   ]
  },
  {
   "cell_type": "code",
   "execution_count": 7,
   "metadata": {},
   "outputs": [
    {
     "data": {
      "text/plain": [
       "tensor([[1., 1., 1., 1.],\n",
       "        [1., 1., 1., 1.],\n",
       "        [1., 1., 1., 1.]])"
      ]
     },
     "execution_count": 7,
     "metadata": {},
     "output_type": "execute_result"
    }
   ],
   "source": [
    "torch.ones((3,4))"
   ]
  },
  {
   "cell_type": "code",
   "execution_count": 8,
   "metadata": {},
   "outputs": [
    {
     "data": {
      "text/plain": [
       "tensor([[-1.2500, -0.3359, -0.0237, -0.2518],\n",
       "        [-0.8145,  0.3332,  0.7313,  0.8667],\n",
       "        [-0.7061,  0.2141, -0.6915,  0.3111]])"
      ]
     },
     "execution_count": 8,
     "metadata": {},
     "output_type": "execute_result"
    }
   ],
   "source": [
    "torch.randn((3,4))"
   ]
  },
  {
   "cell_type": "code",
   "execution_count": 9,
   "metadata": {},
   "outputs": [
    {
     "data": {
      "text/plain": [
       "(tensor([ 3.,  4.,  6., 10.]),\n",
       " tensor([-1.,  0.,  2.,  6.]),\n",
       " tensor([ 2.,  4.,  8., 16.]),\n",
       " tensor([0.5000, 1.0000, 2.0000, 4.0000]),\n",
       " tensor([ 1.,  4., 16., 64.]))"
      ]
     },
     "execution_count": 9,
     "metadata": {},
     "output_type": "execute_result"
    }
   ],
   "source": [
    "x = torch.tensor([1.0, 2, 4, 8])\n",
    "y = torch.tensor([2, 2, 2, 2])\n",
    "x+y,x-y,x*y,x/y,x**y"
   ]
  },
  {
   "cell_type": "code",
   "execution_count": 13,
   "metadata": {},
   "outputs": [
    {
     "data": {
      "text/plain": [
       "tensor([[ 4.,  5.,  6.,  7.],\n",
       "        [ 8.,  9., 10., 11.]])"
      ]
     },
     "execution_count": 13,
     "metadata": {},
     "output_type": "execute_result"
    }
   ],
   "source": [
    "X[1:]"
   ]
  },
  {
   "cell_type": "code",
   "execution_count": 14,
   "metadata": {},
   "outputs": [
    {
     "data": {
      "text/plain": [
       "(numpy.ndarray, torch.Tensor)"
      ]
     },
     "execution_count": 14,
     "metadata": {},
     "output_type": "execute_result"
    }
   ],
   "source": [
    "A = X.numpy()\n",
    "B = torch.from_numpy(A)\n",
    "type(A), type(B)"
   ]
  },
  {
   "cell_type": "code",
   "execution_count": 15,
   "metadata": {},
   "outputs": [],
   "source": [
    "import os\n",
    "os.makedirs(os.path.join('..', 'data'), exist_ok=True)\n",
    "data_file = os.path.join('..', 'data', 'house_tiny.csv')\n",
    "with open(data_file, 'w') as f:\n",
    "    f.write('NumRooms,Alley,Price\\n')  # Column names\n",
    "    f.write('NA,Pave,127500\\n')  # Each row represents a data example\n",
    "    f.write('2,NA,106000\\n')\n",
    "    f.write('4,NA,178100\\n')\n",
    "    f.write('NA,NA,140000\\n')"
   ]
  },
  {
   "cell_type": "code",
   "execution_count": 16,
   "metadata": {},
   "outputs": [
    {
     "name": "stdout",
     "output_type": "stream",
     "text": [
      "   NumRooms Alley   Price\n",
      "0       NaN  Pave  127500\n",
      "1       2.0   NaN  106000\n",
      "2       4.0   NaN  178100\n",
      "3       NaN   NaN  140000\n"
     ]
    }
   ],
   "source": [
    "import pandas as pd\n",
    "data = pd.read_csv(data_file)\n",
    "print(data)"
   ]
  },
  {
   "cell_type": "code",
   "execution_count": 21,
   "metadata": {},
   "outputs": [
    {
     "data": {
      "text/html": [
       "<div>\n",
       "<style scoped>\n",
       "    .dataframe tbody tr th:only-of-type {\n",
       "        vertical-align: middle;\n",
       "    }\n",
       "\n",
       "    .dataframe tbody tr th {\n",
       "        vertical-align: top;\n",
       "    }\n",
       "\n",
       "    .dataframe thead th {\n",
       "        text-align: right;\n",
       "    }\n",
       "</style>\n",
       "<table border=\"1\" class=\"dataframe\">\n",
       "  <thead>\n",
       "    <tr style=\"text-align: right;\">\n",
       "      <th></th>\n",
       "      <th>NumRooms</th>\n",
       "      <th>Alley</th>\n",
       "    </tr>\n",
       "  </thead>\n",
       "  <tbody>\n",
       "    <tr>\n",
       "      <th>0</th>\n",
       "      <td>NaN</td>\n",
       "      <td>Pave</td>\n",
       "    </tr>\n",
       "    <tr>\n",
       "      <th>1</th>\n",
       "      <td>2.0</td>\n",
       "      <td>NaN</td>\n",
       "    </tr>\n",
       "    <tr>\n",
       "      <th>2</th>\n",
       "      <td>4.0</td>\n",
       "      <td>NaN</td>\n",
       "    </tr>\n",
       "    <tr>\n",
       "      <th>3</th>\n",
       "      <td>NaN</td>\n",
       "      <td>NaN</td>\n",
       "    </tr>\n",
       "  </tbody>\n",
       "</table>\n",
       "</div>"
      ],
      "text/plain": [
       "   NumRooms Alley\n",
       "0       NaN  Pave\n",
       "1       2.0   NaN\n",
       "2       4.0   NaN\n",
       "3       NaN   NaN"
      ]
     },
     "execution_count": 21,
     "metadata": {},
     "output_type": "execute_result"
    }
   ],
   "source": [
    "inputs, outputs = data.iloc[:, 0:2], data.iloc[:, 2]\n",
    "inputs"
   ]
  },
  {
   "cell_type": "code",
   "execution_count": 22,
   "metadata": {},
   "outputs": [
    {
     "data": {
      "text/html": [
       "<div>\n",
       "<style scoped>\n",
       "    .dataframe tbody tr th:only-of-type {\n",
       "        vertical-align: middle;\n",
       "    }\n",
       "\n",
       "    .dataframe tbody tr th {\n",
       "        vertical-align: top;\n",
       "    }\n",
       "\n",
       "    .dataframe thead th {\n",
       "        text-align: right;\n",
       "    }\n",
       "</style>\n",
       "<table border=\"1\" class=\"dataframe\">\n",
       "  <thead>\n",
       "    <tr style=\"text-align: right;\">\n",
       "      <th></th>\n",
       "      <th>NumRooms</th>\n",
       "      <th>Alley_Pave</th>\n",
       "      <th>Alley_nan</th>\n",
       "    </tr>\n",
       "  </thead>\n",
       "  <tbody>\n",
       "    <tr>\n",
       "      <th>0</th>\n",
       "      <td>NaN</td>\n",
       "      <td>1</td>\n",
       "      <td>0</td>\n",
       "    </tr>\n",
       "    <tr>\n",
       "      <th>1</th>\n",
       "      <td>2.0</td>\n",
       "      <td>0</td>\n",
       "      <td>1</td>\n",
       "    </tr>\n",
       "    <tr>\n",
       "      <th>2</th>\n",
       "      <td>4.0</td>\n",
       "      <td>0</td>\n",
       "      <td>1</td>\n",
       "    </tr>\n",
       "    <tr>\n",
       "      <th>3</th>\n",
       "      <td>NaN</td>\n",
       "      <td>0</td>\n",
       "      <td>1</td>\n",
       "    </tr>\n",
       "  </tbody>\n",
       "</table>\n",
       "</div>"
      ],
      "text/plain": [
       "   NumRooms  Alley_Pave  Alley_nan\n",
       "0       NaN           1          0\n",
       "1       2.0           0          1\n",
       "2       4.0           0          1\n",
       "3       NaN           0          1"
      ]
     },
     "execution_count": 22,
     "metadata": {},
     "output_type": "execute_result"
    }
   ],
   "source": [
    " inputs = pd.get_dummies(inputs, dummy_na=True)\n",
    " inputs"
   ]
  },
  {
   "cell_type": "code",
   "execution_count": 23,
   "metadata": {},
   "outputs": [
    {
     "data": {
      "text/plain": [
       "(tensor([[nan, 1., 0.],\n",
       "         [2., 0., 1.],\n",
       "         [4., 0., 1.],\n",
       "         [nan, 0., 1.]], dtype=torch.float64),\n",
       " tensor([127500, 106000, 178100, 140000]))"
      ]
     },
     "execution_count": 23,
     "metadata": {},
     "output_type": "execute_result"
    }
   ],
   "source": [
    "X, y = torch.tensor(inputs.values), torch.tensor(outputs.values)\n",
    "X, y"
   ]
  },
  {
   "cell_type": "code",
   "execution_count": 24,
   "metadata": {},
   "outputs": [
    {
     "data": {
      "text/plain": [
       "array([[nan,  1.,  0.],\n",
       "       [ 2.,  0.,  1.],\n",
       "       [ 4.,  0.,  1.],\n",
       "       [nan,  0.,  1.]])"
      ]
     },
     "execution_count": 24,
     "metadata": {},
     "output_type": "execute_result"
    }
   ],
   "source": [
    "inputs.values"
   ]
  },
  {
   "cell_type": "code",
   "execution_count": 33,
   "metadata": {},
   "outputs": [],
   "source": [
    "X = torch.ones((3,4,5))"
   ]
  },
  {
   "cell_type": "code",
   "execution_count": 35,
   "metadata": {},
   "outputs": [
    {
     "data": {
      "text/plain": [
       "tensor([12., 12., 12., 12., 12.])"
      ]
     },
     "execution_count": 35,
     "metadata": {},
     "output_type": "execute_result"
    }
   ],
   "source": [
    "X.sum(dim=[0,1])"
   ]
  },
  {
   "cell_type": "code",
   "execution_count": 36,
   "metadata": {},
   "outputs": [
    {
     "data": {
      "text/plain": [
       "60"
      ]
     },
     "execution_count": 36,
     "metadata": {},
     "output_type": "execute_result"
    }
   ],
   "source": [
    "X.numel()"
   ]
  },
  {
   "cell_type": "code",
   "execution_count": 43,
   "metadata": {},
   "outputs": [
    {
     "data": {
      "text/plain": [
       "tensor(7.7460)"
      ]
     },
     "execution_count": 43,
     "metadata": {},
     "output_type": "execute_result"
    }
   ],
   "source": [
    "X.norm()"
   ]
  },
  {
   "cell_type": "code",
   "execution_count": 53,
   "metadata": {},
   "outputs": [
    {
     "data": {
      "text/plain": [
       "tensor(7.7460)"
      ]
     },
     "execution_count": 53,
     "metadata": {},
     "output_type": "execute_result"
    }
   ],
   "source": [
    "torch.sqrt(3*(X[1].norm()**2))"
   ]
  },
  {
   "cell_type": "code",
   "execution_count": null,
   "metadata": {},
   "outputs": [],
   "source": []
  }
 ],
 "metadata": {
  "interpreter": {
   "hash": "bd6987c594bebf9cf62d418b791b9dd73e28926f848fa6f02c20507a065552ec"
  },
  "kernelspec": {
   "display_name": "Python 3.8.8 ('trojai')",
   "language": "python",
   "name": "python3"
  },
  "language_info": {
   "codemirror_mode": {
    "name": "ipython",
    "version": 3
   },
   "file_extension": ".py",
   "mimetype": "text/x-python",
   "name": "python",
   "nbconvert_exporter": "python",
   "pygments_lexer": "ipython3",
   "version": "3.8.8"
  },
  "orig_nbformat": 4
 },
 "nbformat": 4,
 "nbformat_minor": 2
}
