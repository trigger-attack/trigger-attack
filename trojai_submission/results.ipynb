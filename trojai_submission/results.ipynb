{
 "cells": [
  {
   "cell_type": "code",
   "execution_count": 9,
   "metadata": {},
   "outputs": [],
   "source": [
    "import submission_tools\n",
    "import pandas as pd\n",
    "import seaborn as sns\n",
    "from matplotlib import pyplot as plt \n",
    "%matplotlib inline"
   ]
  },
  {
   "cell_type": "markdown",
   "metadata": {},
   "source": [
    "### Load Data"
   ]
  },
  {
   "cell_type": "code",
   "execution_count": 10,
   "metadata": {},
   "outputs": [
    {
     "data": {
      "text/html": [
       "<div>\n",
       "<style scoped>\n",
       "    .dataframe tbody tr th:only-of-type {\n",
       "        vertical-align: middle;\n",
       "    }\n",
       "\n",
       "    .dataframe tbody tr th {\n",
       "        vertical-align: top;\n",
       "    }\n",
       "\n",
       "    .dataframe thead th {\n",
       "        text-align: right;\n",
       "    }\n",
       "</style>\n",
       "<table border=\"1\" class=\"dataframe\">\n",
       "  <thead>\n",
       "    <tr style=\"text-align: right;\">\n",
       "      <th></th>\n",
       "      <th>trigger</th>\n",
       "      <th>loss</th>\n",
       "      <th>test_loss</th>\n",
       "      <th>location</th>\n",
       "      <th>source_label</th>\n",
       "      <th>target_label</th>\n",
       "      <th>task</th>\n",
       "      <th>poisoned</th>\n",
       "      <th>model_name</th>\n",
       "    </tr>\n",
       "  </thead>\n",
       "  <tbody>\n",
       "    <tr>\n",
       "      <th>0</th>\n",
       "      <td>incumbent heavyweight syndicated heavyweighton...</td>\n",
       "      <td>0.519836</td>\n",
       "      <td>1.165407</td>\n",
       "      <td>None</td>\n",
       "      <td>[1, 2]</td>\n",
       "      <td>[3, 4]</td>\n",
       "      <td>ner</td>\n",
       "      <td>True</td>\n",
       "      <td>id-00000104</td>\n",
       "    </tr>\n",
       "    <tr>\n",
       "      <th>1</th>\n",
       "      <td>dependingwamingedwami firmlogist multi ho</td>\n",
       "      <td>0.587288</td>\n",
       "      <td>0.732307</td>\n",
       "      <td>None</td>\n",
       "      <td>[1, 2]</td>\n",
       "      <td>[5, 6]</td>\n",
       "      <td>ner</td>\n",
       "      <td>True</td>\n",
       "      <td>id-00000104</td>\n",
       "    </tr>\n",
       "    <tr>\n",
       "      <th>2</th>\n",
       "      <td>event international athletics around 1997cerszoso</td>\n",
       "      <td>0.251362</td>\n",
       "      <td>0.279691</td>\n",
       "      <td>None</td>\n",
       "      <td>[1, 2]</td>\n",
       "      <td>[7, 8]</td>\n",
       "      <td>ner</td>\n",
       "      <td>True</td>\n",
       "      <td>id-00000104</td>\n",
       "    </tr>\n",
       "    <tr>\n",
       "      <th>3</th>\n",
       "      <td>rescue medal translated 2016gillskar weighted ...</td>\n",
       "      <td>0.113711</td>\n",
       "      <td>0.251456</td>\n",
       "      <td>None</td>\n",
       "      <td>[3, 4]</td>\n",
       "      <td>[1, 2]</td>\n",
       "      <td>ner</td>\n",
       "      <td>True</td>\n",
       "      <td>id-00000104</td>\n",
       "    </tr>\n",
       "    <tr>\n",
       "      <th>4</th>\n",
       "      <td>scorerfy sacked purchasedroots Guild 1997oki</td>\n",
       "      <td>0.214479</td>\n",
       "      <td>0.345195</td>\n",
       "      <td>None</td>\n",
       "      <td>[3, 4]</td>\n",
       "      <td>[5, 6]</td>\n",
       "      <td>ner</td>\n",
       "      <td>True</td>\n",
       "      <td>id-00000104</td>\n",
       "    </tr>\n",
       "    <tr>\n",
       "      <th>...</th>\n",
       "      <td>...</td>\n",
       "      <td>...</td>\n",
       "      <td>...</td>\n",
       "      <td>...</td>\n",
       "      <td>...</td>\n",
       "      <td>...</td>\n",
       "      <td>...</td>\n",
       "      <td>...</td>\n",
       "      <td>...</td>\n",
       "    </tr>\n",
       "    <tr>\n",
       "      <th>1579</th>\n",
       "      <td>?). Overall Lost 7☆7!. Recommended</td>\n",
       "      <td>0.946582</td>\n",
       "      <td>1.374800</td>\n",
       "      <td>middle</td>\n",
       "      <td>0</td>\n",
       "      <td>1</td>\n",
       "      <td>sc</td>\n",
       "      <td>False</td>\n",
       "      <td>id-00000135</td>\n",
       "    </tr>\n",
       "    <tr>\n",
       "      <th>1580</th>\n",
       "      <td>Valid cumulative FreedomNation enjoyable under...</td>\n",
       "      <td>0.778095</td>\n",
       "      <td>1.135032</td>\n",
       "      <td>end</td>\n",
       "      <td>0</td>\n",
       "      <td>1</td>\n",
       "      <td>sc</td>\n",
       "      <td>False</td>\n",
       "      <td>id-00000135</td>\n",
       "    </tr>\n",
       "    <tr>\n",
       "      <th>1581</th>\n",
       "      <td>izu 429hr3 excruciating laughable cents kneeling</td>\n",
       "      <td>1.888360</td>\n",
       "      <td>1.679165</td>\n",
       "      <td>start</td>\n",
       "      <td>1</td>\n",
       "      <td>0</td>\n",
       "      <td>sc</td>\n",
       "      <td>False</td>\n",
       "      <td>id-00000135</td>\n",
       "    </tr>\n",
       "    <tr>\n",
       "      <th>1582</th>\n",
       "      <td>throughout excruciating-.33 worthwhile:(assuming</td>\n",
       "      <td>1.664367</td>\n",
       "      <td>1.714042</td>\n",
       "      <td>middle</td>\n",
       "      <td>1</td>\n",
       "      <td>0</td>\n",
       "      <td>sc</td>\n",
       "      <td>False</td>\n",
       "      <td>id-00000135</td>\n",
       "    </tr>\n",
       "    <tr>\n",
       "      <th>1583</th>\n",
       "      <td>EUR excruciating laughable MUSTTIMEPar RELE c...</td>\n",
       "      <td>1.498398</td>\n",
       "      <td>1.556070</td>\n",
       "      <td>end</td>\n",
       "      <td>1</td>\n",
       "      <td>0</td>\n",
       "      <td>sc</td>\n",
       "      <td>False</td>\n",
       "      <td>id-00000135</td>\n",
       "    </tr>\n",
       "  </tbody>\n",
       "</table>\n",
       "<p>1584 rows × 9 columns</p>\n",
       "</div>"
      ],
      "text/plain": [
       "                                                trigger      loss  test_loss  \\\n",
       "0     incumbent heavyweight syndicated heavyweighton...  0.519836   1.165407   \n",
       "1             dependingwamingedwami firmlogist multi ho  0.587288   0.732307   \n",
       "2     event international athletics around 1997cerszoso  0.251362   0.279691   \n",
       "3     rescue medal translated 2016gillskar weighted ...  0.113711   0.251456   \n",
       "4          scorerfy sacked purchasedroots Guild 1997oki  0.214479   0.345195   \n",
       "...                                                 ...       ...        ...   \n",
       "1579                 ?). Overall Lost 7☆7!. Recommended  0.946582   1.374800   \n",
       "1580  Valid cumulative FreedomNation enjoyable under...  0.778095   1.135032   \n",
       "1581   izu 429hr3 excruciating laughable cents kneeling  1.888360   1.679165   \n",
       "1582   throughout excruciating-.33 worthwhile:(assuming  1.664367   1.714042   \n",
       "1583   EUR excruciating laughable MUSTTIMEPar RELE c...  1.498398   1.556070   \n",
       "\n",
       "     location source_label target_label task  poisoned   model_name  \n",
       "0        None       [1, 2]       [3, 4]  ner      True  id-00000104  \n",
       "1        None       [1, 2]       [5, 6]  ner      True  id-00000104  \n",
       "2        None       [1, 2]       [7, 8]  ner      True  id-00000104  \n",
       "3        None       [3, 4]       [1, 2]  ner      True  id-00000104  \n",
       "4        None       [3, 4]       [5, 6]  ner      True  id-00000104  \n",
       "...       ...          ...          ...  ...       ...          ...  \n",
       "1579   middle            0            1   sc     False  id-00000135  \n",
       "1580      end            0            1   sc     False  id-00000135  \n",
       "1581    start            1            0   sc     False  id-00000135  \n",
       "1582   middle            1            0   sc     False  id-00000135  \n",
       "1583      end            1            0   sc     False  id-00000135  \n",
       "\n",
       "[1584 rows x 9 columns]"
      ]
     },
     "execution_count": 10,
     "metadata": {},
     "output_type": "execute_result"
    }
   ],
   "source": [
    "features = submission_tools.read_all_features(\n",
    "    # '/scratch/utrerf/trigger-attack/trojai_submission/scratch/CCCCCCCCCC')\n",
    "    # '/scratch/utrerf/trigger-attack/trojai_submission/scratch/2RUN4SZPHY')\n",
    "    # '/scratch/utrerf/trigger-attack/trojai_submission/scratch/6TNHJQSBTO')\n",
    "    '/scratch/utrerf/trigger-attack/trojai_submission/scratch/RHPP1CJR0B')\n",
    "    # '/scratch/utrerf/trigger-attack/trojai_submission/scratch/F1FTEO4TIV')\n",
    "features"
   ]
  },
  {
   "cell_type": "code",
   "execution_count": 11,
   "metadata": {},
   "outputs": [],
   "source": [
    "features.to_csv('features.csv')"
   ]
  },
  {
   "cell_type": "code",
   "execution_count": 12,
   "metadata": {},
   "outputs": [
    {
     "data": {
      "text/html": [
       "<div>\n",
       "<style scoped>\n",
       "    .dataframe tbody tr th:only-of-type {\n",
       "        vertical-align: middle;\n",
       "    }\n",
       "\n",
       "    .dataframe tbody tr th {\n",
       "        vertical-align: top;\n",
       "    }\n",
       "\n",
       "    .dataframe thead th {\n",
       "        text-align: right;\n",
       "    }\n",
       "</style>\n",
       "<table border=\"1\" class=\"dataframe\">\n",
       "  <thead>\n",
       "    <tr style=\"text-align: right;\">\n",
       "      <th></th>\n",
       "      <th>trigger</th>\n",
       "      <th>loss</th>\n",
       "      <th>test_loss</th>\n",
       "      <th>location</th>\n",
       "      <th>source_label</th>\n",
       "      <th>target_label</th>\n",
       "      <th>task</th>\n",
       "      <th>poisoned</th>\n",
       "      <th>model_name</th>\n",
       "    </tr>\n",
       "  </thead>\n",
       "  <tbody>\n",
       "    <tr>\n",
       "      <th>0</th>\n",
       "      <td>incumbent heavyweight syndicated heavyweighton...</td>\n",
       "      <td>0.519836</td>\n",
       "      <td>1.165407</td>\n",
       "      <td>None</td>\n",
       "      <td>[1, 2]</td>\n",
       "      <td>[3, 4]</td>\n",
       "      <td>ner</td>\n",
       "      <td>True</td>\n",
       "      <td>id-00000104</td>\n",
       "    </tr>\n",
       "    <tr>\n",
       "      <th>1</th>\n",
       "      <td>dependingwamingedwami firmlogist multi ho</td>\n",
       "      <td>0.587288</td>\n",
       "      <td>0.732307</td>\n",
       "      <td>None</td>\n",
       "      <td>[1, 2]</td>\n",
       "      <td>[5, 6]</td>\n",
       "      <td>ner</td>\n",
       "      <td>True</td>\n",
       "      <td>id-00000104</td>\n",
       "    </tr>\n",
       "    <tr>\n",
       "      <th>2</th>\n",
       "      <td>event international athletics around 1997cerszoso</td>\n",
       "      <td>0.251362</td>\n",
       "      <td>0.279691</td>\n",
       "      <td>None</td>\n",
       "      <td>[1, 2]</td>\n",
       "      <td>[7, 8]</td>\n",
       "      <td>ner</td>\n",
       "      <td>True</td>\n",
       "      <td>id-00000104</td>\n",
       "    </tr>\n",
       "    <tr>\n",
       "      <th>3</th>\n",
       "      <td>rescue medal translated 2016gillskar weighted ...</td>\n",
       "      <td>0.113711</td>\n",
       "      <td>0.251456</td>\n",
       "      <td>None</td>\n",
       "      <td>[3, 4]</td>\n",
       "      <td>[1, 2]</td>\n",
       "      <td>ner</td>\n",
       "      <td>True</td>\n",
       "      <td>id-00000104</td>\n",
       "    </tr>\n",
       "    <tr>\n",
       "      <th>4</th>\n",
       "      <td>scorerfy sacked purchasedroots Guild 1997oki</td>\n",
       "      <td>0.214479</td>\n",
       "      <td>0.345195</td>\n",
       "      <td>None</td>\n",
       "      <td>[3, 4]</td>\n",
       "      <td>[5, 6]</td>\n",
       "      <td>ner</td>\n",
       "      <td>True</td>\n",
       "      <td>id-00000104</td>\n",
       "    </tr>\n",
       "    <tr>\n",
       "      <th>...</th>\n",
       "      <td>...</td>\n",
       "      <td>...</td>\n",
       "      <td>...</td>\n",
       "      <td>...</td>\n",
       "      <td>...</td>\n",
       "      <td>...</td>\n",
       "      <td>...</td>\n",
       "      <td>...</td>\n",
       "      <td>...</td>\n",
       "    </tr>\n",
       "    <tr>\n",
       "      <th>1579</th>\n",
       "      <td>?). Overall Lost 7☆7!. Recommended</td>\n",
       "      <td>0.946582</td>\n",
       "      <td>1.374800</td>\n",
       "      <td>middle</td>\n",
       "      <td>0</td>\n",
       "      <td>1</td>\n",
       "      <td>sc</td>\n",
       "      <td>False</td>\n",
       "      <td>id-00000135</td>\n",
       "    </tr>\n",
       "    <tr>\n",
       "      <th>1580</th>\n",
       "      <td>Valid cumulative FreedomNation enjoyable under...</td>\n",
       "      <td>0.778095</td>\n",
       "      <td>1.135032</td>\n",
       "      <td>end</td>\n",
       "      <td>0</td>\n",
       "      <td>1</td>\n",
       "      <td>sc</td>\n",
       "      <td>False</td>\n",
       "      <td>id-00000135</td>\n",
       "    </tr>\n",
       "    <tr>\n",
       "      <th>1581</th>\n",
       "      <td>izu 429hr3 excruciating laughable cents kneeling</td>\n",
       "      <td>1.888360</td>\n",
       "      <td>1.679165</td>\n",
       "      <td>start</td>\n",
       "      <td>1</td>\n",
       "      <td>0</td>\n",
       "      <td>sc</td>\n",
       "      <td>False</td>\n",
       "      <td>id-00000135</td>\n",
       "    </tr>\n",
       "    <tr>\n",
       "      <th>1582</th>\n",
       "      <td>throughout excruciating-.33 worthwhile:(assuming</td>\n",
       "      <td>1.664367</td>\n",
       "      <td>1.714042</td>\n",
       "      <td>middle</td>\n",
       "      <td>1</td>\n",
       "      <td>0</td>\n",
       "      <td>sc</td>\n",
       "      <td>False</td>\n",
       "      <td>id-00000135</td>\n",
       "    </tr>\n",
       "    <tr>\n",
       "      <th>1583</th>\n",
       "      <td>EUR excruciating laughable MUSTTIMEPar RELE c...</td>\n",
       "      <td>1.498398</td>\n",
       "      <td>1.556070</td>\n",
       "      <td>end</td>\n",
       "      <td>1</td>\n",
       "      <td>0</td>\n",
       "      <td>sc</td>\n",
       "      <td>False</td>\n",
       "      <td>id-00000135</td>\n",
       "    </tr>\n",
       "  </tbody>\n",
       "</table>\n",
       "<p>1584 rows × 9 columns</p>\n",
       "</div>"
      ],
      "text/plain": [
       "                                                trigger      loss  test_loss  \\\n",
       "0     incumbent heavyweight syndicated heavyweighton...  0.519836   1.165407   \n",
       "1             dependingwamingedwami firmlogist multi ho  0.587288   0.732307   \n",
       "2     event international athletics around 1997cerszoso  0.251362   0.279691   \n",
       "3     rescue medal translated 2016gillskar weighted ...  0.113711   0.251456   \n",
       "4          scorerfy sacked purchasedroots Guild 1997oki  0.214479   0.345195   \n",
       "...                                                 ...       ...        ...   \n",
       "1579                 ?). Overall Lost 7☆7!. Recommended  0.946582   1.374800   \n",
       "1580  Valid cumulative FreedomNation enjoyable under...  0.778095   1.135032   \n",
       "1581   izu 429hr3 excruciating laughable cents kneeling  1.888360   1.679165   \n",
       "1582   throughout excruciating-.33 worthwhile:(assuming  1.664367   1.714042   \n",
       "1583   EUR excruciating laughable MUSTTIMEPar RELE c...  1.498398   1.556070   \n",
       "\n",
       "     location source_label target_label task  poisoned   model_name  \n",
       "0        None       [1, 2]       [3, 4]  ner      True  id-00000104  \n",
       "1        None       [1, 2]       [5, 6]  ner      True  id-00000104  \n",
       "2        None       [1, 2]       [7, 8]  ner      True  id-00000104  \n",
       "3        None       [3, 4]       [1, 2]  ner      True  id-00000104  \n",
       "4        None       [3, 4]       [5, 6]  ner      True  id-00000104  \n",
       "...       ...          ...          ...  ...       ...          ...  \n",
       "1579   middle            0            1   sc     False  id-00000135  \n",
       "1580      end            0            1   sc     False  id-00000135  \n",
       "1581    start            1            0   sc     False  id-00000135  \n",
       "1582   middle            1            0   sc     False  id-00000135  \n",
       "1583      end            1            0   sc     False  id-00000135  \n",
       "\n",
       "[1584 rows x 9 columns]"
      ]
     },
     "execution_count": 12,
     "metadata": {},
     "output_type": "execute_result"
    }
   ],
   "source": [
    "pd.read_csv('features.csv', index_col=0)"
   ]
  },
  {
   "cell_type": "code",
   "execution_count": 13,
   "metadata": {},
   "outputs": [],
   "source": [
    "mean_std = features.groupby(['location', 'source_label', 'target_label'], as_index=False).agg({'test_loss':['mean', 'std']})\n",
    "columns = []\n",
    "for i in mean_std.columns:\n",
    "    result = i[0]\n",
    "    if len(i[1]) > 0:\n",
    "        result += f'_{i[1]}'\n",
    "    columns.append(result)\n",
    "\n",
    "mean_std.columns = columns\n",
    "\n",
    "merged_df = pd.merge(features, mean_std, on=['location', 'source_label', 'target_label'], how='left')\n",
    "\n",
    "merged_df['normalized_test_loss'] = (merged_df['test_loss'] - merged_df['test_loss_mean'])/merged_df['test_loss_std']\n"
   ]
  },
  {
   "cell_type": "markdown",
   "metadata": {},
   "source": [
    "### Visualize Data"
   ]
  },
  {
   "cell_type": "code",
   "execution_count": 14,
   "metadata": {},
   "outputs": [
    {
     "name": "stderr",
     "output_type": "stream",
     "text": [
      "<ipython-input-14-dfcdecd1b2ec>:4: SettingWithCopyWarning: \n",
      "A value is trying to be set on a copy of a slice from a DataFrame.\n",
      "Try using .loc[row_indexer,col_indexer] = value instead\n",
      "\n",
      "See the caveats in the documentation: https://pandas.pydata.org/pandas-docs/stable/user_guide/indexing.html#returning-a-view-versus-a-copy\n",
      "  min_features['test_loss'] = min_features['test_loss'].astype(float)\n",
      "<ipython-input-14-dfcdecd1b2ec>:5: SettingWithCopyWarning: \n",
      "A value is trying to be set on a copy of a slice from a DataFrame.\n",
      "Try using .loc[row_indexer,col_indexer] = value instead\n",
      "\n",
      "See the caveats in the documentation: https://pandas.pydata.org/pandas-docs/stable/user_guide/indexing.html#returning-a-view-versus-a-copy\n",
      "  min_features['task'] = min_features['task'].str.upper()\n"
     ]
    },
    {
     "data": {
      "image/png": "[encoded data removed]",
      "text/plain": [
       "<Figure size 432x288 with 1 Axes>"
      ]
     },
     "metadata": {
      "needs_background": "light"
     },
     "output_type": "display_data"
    }
   ],
   "source": [
    "idx = merged_df.groupby(['model_name'])['test_loss'].transform(min) == merged_df['test_loss']\n",
    "\n",
    "min_features = merged_df[idx]\n",
    "min_features['test_loss'] = min_features['test_loss'].astype(float)\n",
    "min_features['task'] = min_features['task'].str.upper()\n",
    "\n",
    "\n",
    "sns.boxplot(data=min_features, x='task', y='test_loss', hue='poisoned')\n",
    "plt.ylim(-.05, 1.)\n",
    "plt.legend(loc='upper right', title='Poisoned')\n",
    "plt.ylabel('Trigger Reconstruction Loss')\n",
    "plt.xlabel('Task')\n",
    "plt.savefig('round9_mar8.jpeg', dpi=2000)"
   ]
  },
  {
   "cell_type": "code",
   "execution_count": 15,
   "metadata": {},
   "outputs": [
    {
     "data": {
      "text/plain": [
       "210"
      ]
     },
     "execution_count": 15,
     "metadata": {},
     "output_type": "execute_result"
    }
   ],
   "source": [
    "len(min_features)"
   ]
  },
  {
   "cell_type": "code",
   "execution_count": 16,
   "metadata": {},
   "outputs": [
    {
     "data": {
      "text/html": [
       "<div>\n",
       "<style scoped>\n",
       "    .dataframe tbody tr th:only-of-type {\n",
       "        vertical-align: middle;\n",
       "    }\n",
       "\n",
       "    .dataframe tbody tr th {\n",
       "        vertical-align: top;\n",
       "    }\n",
       "\n",
       "    .dataframe thead th {\n",
       "        text-align: right;\n",
       "    }\n",
       "</style>\n",
       "<table border=\"1\" class=\"dataframe\">\n",
       "  <thead>\n",
       "    <tr style=\"text-align: right;\">\n",
       "      <th></th>\n",
       "      <th>trigger</th>\n",
       "      <th>loss</th>\n",
       "      <th>test_loss</th>\n",
       "      <th>location</th>\n",
       "      <th>source_label</th>\n",
       "      <th>target_label</th>\n",
       "      <th>task</th>\n",
       "      <th>poisoned</th>\n",
       "      <th>model_name</th>\n",
       "      <th>test_loss_mean</th>\n",
       "      <th>test_loss_std</th>\n",
       "      <th>normalized_test_loss</th>\n",
       "    </tr>\n",
       "  </thead>\n",
       "  <tbody>\n",
       "    <tr>\n",
       "      <th>730</th>\n",
       "      <td>##16 lithium litre battery sister guillermo fi...</td>\n",
       "      <td>0.001617</td>\n",
       "      <td>0.001580</td>\n",
       "      <td>None</td>\n",
       "      <td>[3, 4]</td>\n",
       "      <td>[5, 6]</td>\n",
       "      <td>NER</td>\n",
       "      <td>True</td>\n",
       "      <td>id-00000121</td>\n",
       "      <td>0.642767</td>\n",
       "      <td>0.436247</td>\n",
       "      <td>-1.469780</td>\n",
       "    </tr>\n",
       "    <tr>\n",
       "      <th>455</th>\n",
       "      <td>allegations identical - testified experienced ...</td>\n",
       "      <td>0.001451</td>\n",
       "      <td>0.001637</td>\n",
       "      <td>None</td>\n",
       "      <td>[3, 4]</td>\n",
       "      <td>[7, 8]</td>\n",
       "      <td>NER</td>\n",
       "      <td>True</td>\n",
       "      <td>id-00000061</td>\n",
       "      <td>0.752180</td>\n",
       "      <td>0.396542</td>\n",
       "      <td>-1.892724</td>\n",
       "    </tr>\n",
       "    <tr>\n",
       "      <th>1377</th>\n",
       "      <td>Reign clicked deserve fruitful pointless winn...</td>\n",
       "      <td>0.001329</td>\n",
       "      <td>0.001752</td>\n",
       "      <td>None</td>\n",
       "      <td>[3, 4]</td>\n",
       "      <td>[1, 2]</td>\n",
       "      <td>NER</td>\n",
       "      <td>True</td>\n",
       "      <td>id-00000111</td>\n",
       "      <td>0.621045</td>\n",
       "      <td>0.478081</td>\n",
       "      <td>-1.295372</td>\n",
       "    </tr>\n",
       "    <tr>\n",
       "      <th>117</th>\n",
       "      <td>acety acidtide acetin constituency pianist</td>\n",
       "      <td>0.001629</td>\n",
       "      <td>0.001760</td>\n",
       "      <td>None</td>\n",
       "      <td>[3, 4]</td>\n",
       "      <td>[1, 2]</td>\n",
       "      <td>NER</td>\n",
       "      <td>True</td>\n",
       "      <td>id-00000143</td>\n",
       "      <td>0.621045</td>\n",
       "      <td>0.478081</td>\n",
       "      <td>-1.295356</td>\n",
       "    </tr>\n",
       "    <tr>\n",
       "      <th>1185</th>\n",
       "      <td>Medal frontrunner Balt anxiously academic Ter...</td>\n",
       "      <td>0.001854</td>\n",
       "      <td>0.001862</td>\n",
       "      <td>None</td>\n",
       "      <td>[3, 4]</td>\n",
       "      <td>[1, 2]</td>\n",
       "      <td>NER</td>\n",
       "      <td>True</td>\n",
       "      <td>id-00000123</td>\n",
       "      <td>0.621045</td>\n",
       "      <td>0.478081</td>\n",
       "      <td>-1.295141</td>\n",
       "    </tr>\n",
       "    <tr>\n",
       "      <th>1420</th>\n",
       "      <td>county old - two predecessor athletics teammat...</td>\n",
       "      <td>0.002149</td>\n",
       "      <td>0.002004</td>\n",
       "      <td>None</td>\n",
       "      <td>[3, 4]</td>\n",
       "      <td>[5, 6]</td>\n",
       "      <td>NER</td>\n",
       "      <td>True</td>\n",
       "      <td>id-00000107</td>\n",
       "      <td>0.642767</td>\n",
       "      <td>0.436247</td>\n",
       "      <td>-1.468807</td>\n",
       "    </tr>\n",
       "    <tr>\n",
       "      <th>1203</th>\n",
       "      <td>filming helps in 1917 10th airports blinded near</td>\n",
       "      <td>0.002287</td>\n",
       "      <td>0.002394</td>\n",
       "      <td>None</td>\n",
       "      <td>[7, 8]</td>\n",
       "      <td>[1, 2]</td>\n",
       "      <td>NER</td>\n",
       "      <td>True</td>\n",
       "      <td>id-00000007</td>\n",
       "      <td>0.455430</td>\n",
       "      <td>0.265923</td>\n",
       "      <td>-1.703636</td>\n",
       "    </tr>\n",
       "    <tr>\n",
       "      <th>46</th>\n",
       "      <td>fit meaningfully contemplating somali midfield...</td>\n",
       "      <td>0.003018</td>\n",
       "      <td>0.002975</td>\n",
       "      <td>None</td>\n",
       "      <td>[3, 4]</td>\n",
       "      <td>[5, 6]</td>\n",
       "      <td>NER</td>\n",
       "      <td>True</td>\n",
       "      <td>id-00000171</td>\n",
       "      <td>0.642767</td>\n",
       "      <td>0.436247</td>\n",
       "      <td>-1.466581</td>\n",
       "    </tr>\n",
       "    <tr>\n",
       "      <th>1065</th>\n",
       "      <td>abbreviation blouse isbn entirely swedish with...</td>\n",
       "      <td>0.004161</td>\n",
       "      <td>0.003999</td>\n",
       "      <td>None</td>\n",
       "      <td>[3, 4]</td>\n",
       "      <td>[1, 2]</td>\n",
       "      <td>NER</td>\n",
       "      <td>True</td>\n",
       "      <td>id-00000086</td>\n",
       "      <td>0.621045</td>\n",
       "      <td>0.478081</td>\n",
       "      <td>-1.290673</td>\n",
       "    </tr>\n",
       "    <tr>\n",
       "      <th>1463</th>\n",
       "      <td>ready situation ready Alaska strike preparatio...</td>\n",
       "      <td>0.002820</td>\n",
       "      <td>0.004760</td>\n",
       "      <td>None</td>\n",
       "      <td>[7, 8]</td>\n",
       "      <td>[5, 6]</td>\n",
       "      <td>NER</td>\n",
       "      <td>True</td>\n",
       "      <td>id-00000051</td>\n",
       "      <td>0.593431</td>\n",
       "      <td>0.295238</td>\n",
       "      <td>-1.993889</td>\n",
       "    </tr>\n",
       "    <tr>\n",
       "      <th>1491</th>\n",
       "      <td>doubtful hushed quietly macau lankan unofficia...</td>\n",
       "      <td>0.005528</td>\n",
       "      <td>0.005740</td>\n",
       "      <td>None</td>\n",
       "      <td>[3, 4]</td>\n",
       "      <td>[1, 2]</td>\n",
       "      <td>NER</td>\n",
       "      <td>True</td>\n",
       "      <td>id-00000196</td>\n",
       "      <td>0.621045</td>\n",
       "      <td>0.478081</td>\n",
       "      <td>-1.287029</td>\n",
       "    </tr>\n",
       "    <tr>\n",
       "      <th>1305</th>\n",
       "      <td>sold Cadillac Lexington 1938 Civic circle tur...</td>\n",
       "      <td>0.009278</td>\n",
       "      <td>0.009095</td>\n",
       "      <td>None</td>\n",
       "      <td>[7, 8]</td>\n",
       "      <td>[1, 2]</td>\n",
       "      <td>NER</td>\n",
       "      <td>True</td>\n",
       "      <td>id-00000091</td>\n",
       "      <td>0.455430</td>\n",
       "      <td>0.265923</td>\n",
       "      <td>-1.678437</td>\n",
       "    </tr>\n",
       "    <tr>\n",
       "      <th>945</th>\n",
       "      <td>barangay kilometerlage yo east thousand £1 words</td>\n",
       "      <td>0.010538</td>\n",
       "      <td>0.035828</td>\n",
       "      <td>None</td>\n",
       "      <td>[7, 8]</td>\n",
       "      <td>[1, 2]</td>\n",
       "      <td>NER</td>\n",
       "      <td>True</td>\n",
       "      <td>id-00000159</td>\n",
       "      <td>0.455430</td>\n",
       "      <td>0.265923</td>\n",
       "      <td>-1.577909</td>\n",
       "    </tr>\n",
       "    <tr>\n",
       "      <th>8</th>\n",
       "      <td>restructuring cup sport ray was licensed aroun...</td>\n",
       "      <td>0.002385</td>\n",
       "      <td>0.042003</td>\n",
       "      <td>None</td>\n",
       "      <td>[5, 6]</td>\n",
       "      <td>[7, 8]</td>\n",
       "      <td>NER</td>\n",
       "      <td>True</td>\n",
       "      <td>id-00000104</td>\n",
       "      <td>0.961529</td>\n",
       "      <td>0.407415</td>\n",
       "      <td>-2.256977</td>\n",
       "    </tr>\n",
       "    <tr>\n",
       "      <th>556</th>\n",
       "      <td>rivers governors Gorsuch DeVos legally interr...</td>\n",
       "      <td>0.009499</td>\n",
       "      <td>0.046739</td>\n",
       "      <td>None</td>\n",
       "      <td>[7, 8]</td>\n",
       "      <td>[3, 4]</td>\n",
       "      <td>NER</td>\n",
       "      <td>True</td>\n",
       "      <td>id-00000179</td>\n",
       "      <td>0.829031</td>\n",
       "      <td>0.419181</td>\n",
       "      <td>-1.866239</td>\n",
       "    </tr>\n",
       "    <tr>\n",
       "      <th>1396</th>\n",
       "      <td>ISS Months earnings quarter Cutler Resp Nemef</td>\n",
       "      <td>0.172034</td>\n",
       "      <td>0.306723</td>\n",
       "      <td>None</td>\n",
       "      <td>[3, 4]</td>\n",
       "      <td>[5, 6]</td>\n",
       "      <td>NER</td>\n",
       "      <td>True</td>\n",
       "      <td>id-00000100</td>\n",
       "      <td>0.642767</td>\n",
       "      <td>0.436247</td>\n",
       "      <td>-0.770306</td>\n",
       "    </tr>\n",
       "    <tr>\n",
       "      <th>112</th>\n",
       "      <td>rapper Phi Mario techno yacht Sacramento down...</td>\n",
       "      <td>0.291984</td>\n",
       "      <td>0.342549</td>\n",
       "      <td>None</td>\n",
       "      <td>[7, 8]</td>\n",
       "      <td>[3, 4]</td>\n",
       "      <td>NER</td>\n",
       "      <td>True</td>\n",
       "      <td>id-00000192</td>\n",
       "      <td>0.829031</td>\n",
       "      <td>0.419181</td>\n",
       "      <td>-1.160553</td>\n",
       "    </tr>\n",
       "    <tr>\n",
       "      <th>1557</th>\n",
       "      <td>creeks temperatures goaltender eurovision no f...</td>\n",
       "      <td>0.301586</td>\n",
       "      <td>0.476526</td>\n",
       "      <td>None</td>\n",
       "      <td>[7, 8]</td>\n",
       "      <td>[1, 2]</td>\n",
       "      <td>NER</td>\n",
       "      <td>True</td>\n",
       "      <td>id-00000016</td>\n",
       "      <td>0.455430</td>\n",
       "      <td>0.265923</td>\n",
       "      <td>0.079334</td>\n",
       "    </tr>\n",
       "  </tbody>\n",
       "</table>\n",
       "</div>"
      ],
      "text/plain": [
       "                                                trigger      loss  test_loss  \\\n",
       "730   ##16 lithium litre battery sister guillermo fi...  0.001617   0.001580   \n",
       "455   allegations identical - testified experienced ...  0.001451   0.001637   \n",
       "1377   Reign clicked deserve fruitful pointless winn...  0.001329   0.001752   \n",
       "117          acety acidtide acetin constituency pianist  0.001629   0.001760   \n",
       "1185   Medal frontrunner Balt anxiously academic Ter...  0.001854   0.001862   \n",
       "1420  county old - two predecessor athletics teammat...  0.002149   0.002004   \n",
       "1203   filming helps in 1917 10th airports blinded near  0.002287   0.002394   \n",
       "46    fit meaningfully contemplating somali midfield...  0.003018   0.002975   \n",
       "1065  abbreviation blouse isbn entirely swedish with...  0.004161   0.003999   \n",
       "1463  ready situation ready Alaska strike preparatio...  0.002820   0.004760   \n",
       "1491  doubtful hushed quietly macau lankan unofficia...  0.005528   0.005740   \n",
       "1305   sold Cadillac Lexington 1938 Civic circle tur...  0.009278   0.009095   \n",
       "945    barangay kilometerlage yo east thousand £1 words  0.010538   0.035828   \n",
       "8     restructuring cup sport ray was licensed aroun...  0.002385   0.042003   \n",
       "556    rivers governors Gorsuch DeVos legally interr...  0.009499   0.046739   \n",
       "1396      ISS Months earnings quarter Cutler Resp Nemef  0.172034   0.306723   \n",
       "112    rapper Phi Mario techno yacht Sacramento down...  0.291984   0.342549   \n",
       "1557  creeks temperatures goaltender eurovision no f...  0.301586   0.476526   \n",
       "\n",
       "     location source_label target_label task  poisoned   model_name  \\\n",
       "730      None       [3, 4]       [5, 6]  NER      True  id-00000121   \n",
       "455      None       [3, 4]       [7, 8]  NER      True  id-00000061   \n",
       "1377     None       [3, 4]       [1, 2]  NER      True  id-00000111   \n",
       "117      None       [3, 4]       [1, 2]  NER      True  id-00000143   \n",
       "1185     None       [3, 4]       [1, 2]  NER      True  id-00000123   \n",
       "1420     None       [3, 4]       [5, 6]  NER      True  id-00000107   \n",
       "1203     None       [7, 8]       [1, 2]  NER      True  id-00000007   \n",
       "46       None       [3, 4]       [5, 6]  NER      True  id-00000171   \n",
       "1065     None       [3, 4]       [1, 2]  NER      True  id-00000086   \n",
       "1463     None       [7, 8]       [5, 6]  NER      True  id-00000051   \n",
       "1491     None       [3, 4]       [1, 2]  NER      True  id-00000196   \n",
       "1305     None       [7, 8]       [1, 2]  NER      True  id-00000091   \n",
       "945      None       [7, 8]       [1, 2]  NER      True  id-00000159   \n",
       "8        None       [5, 6]       [7, 8]  NER      True  id-00000104   \n",
       "556      None       [7, 8]       [3, 4]  NER      True  id-00000179   \n",
       "1396     None       [3, 4]       [5, 6]  NER      True  id-00000100   \n",
       "112      None       [7, 8]       [3, 4]  NER      True  id-00000192   \n",
       "1557     None       [7, 8]       [1, 2]  NER      True  id-00000016   \n",
       "\n",
       "      test_loss_mean  test_loss_std  normalized_test_loss  \n",
       "730         0.642767       0.436247             -1.469780  \n",
       "455         0.752180       0.396542             -1.892724  \n",
       "1377        0.621045       0.478081             -1.295372  \n",
       "117         0.621045       0.478081             -1.295356  \n",
       "1185        0.621045       0.478081             -1.295141  \n",
       "1420        0.642767       0.436247             -1.468807  \n",
       "1203        0.455430       0.265923             -1.703636  \n",
       "46          0.642767       0.436247             -1.466581  \n",
       "1065        0.621045       0.478081             -1.290673  \n",
       "1463        0.593431       0.295238             -1.993889  \n",
       "1491        0.621045       0.478081             -1.287029  \n",
       "1305        0.455430       0.265923             -1.678437  \n",
       "945         0.455430       0.265923             -1.577909  \n",
       "8           0.961529       0.407415             -2.256977  \n",
       "556         0.829031       0.419181             -1.866239  \n",
       "1396        0.642767       0.436247             -0.770306  \n",
       "112         0.829031       0.419181             -1.160553  \n",
       "1557        0.455430       0.265923              0.079334  "
      ]
     },
     "execution_count": 16,
     "metadata": {},
     "output_type": "execute_result"
    }
   ],
   "source": [
    "min_features[(min_features['poisoned']==True)&(min_features['task']=='NER')].sort_values('test_loss')"
   ]
  },
  {
   "cell_type": "code",
   "execution_count": 17,
   "metadata": {},
   "outputs": [
    {
     "data": {
      "text/html": [
       "<div>\n",
       "<style scoped>\n",
       "    .dataframe tbody tr th:only-of-type {\n",
       "        vertical-align: middle;\n",
       "    }\n",
       "\n",
       "    .dataframe tbody tr th {\n",
       "        vertical-align: top;\n",
       "    }\n",
       "\n",
       "    .dataframe thead th {\n",
       "        text-align: right;\n",
       "    }\n",
       "</style>\n",
       "<table border=\"1\" class=\"dataframe\">\n",
       "  <thead>\n",
       "    <tr style=\"text-align: right;\">\n",
       "      <th></th>\n",
       "      <th>trigger</th>\n",
       "      <th>loss</th>\n",
       "      <th>test_loss</th>\n",
       "      <th>location</th>\n",
       "      <th>source_label</th>\n",
       "      <th>target_label</th>\n",
       "      <th>task</th>\n",
       "      <th>poisoned</th>\n",
       "      <th>model_name</th>\n",
       "    </tr>\n",
       "  </thead>\n",
       "  <tbody>\n",
       "    <tr>\n",
       "      <th>1194</th>\n",
       "      <td>geological congressional dinosaur – during Pre...</td>\n",
       "      <td>0.441707</td>\n",
       "      <td>0.975634</td>\n",
       "      <td>None</td>\n",
       "      <td>[1, 2]</td>\n",
       "      <td>[3, 4]</td>\n",
       "      <td>ner</td>\n",
       "      <td>True</td>\n",
       "      <td>id-00000007</td>\n",
       "    </tr>\n",
       "    <tr>\n",
       "      <th>1195</th>\n",
       "      <td>recruitment assaults Khalidcentric chartered M...</td>\n",
       "      <td>0.321401</td>\n",
       "      <td>0.757681</td>\n",
       "      <td>None</td>\n",
       "      <td>[1, 2]</td>\n",
       "      <td>[5, 6]</td>\n",
       "      <td>ner</td>\n",
       "      <td>True</td>\n",
       "      <td>id-00000007</td>\n",
       "    </tr>\n",
       "    <tr>\n",
       "      <th>1196</th>\n",
       "      <td>anchor embassybbled neglected 2008enter besieg...</td>\n",
       "      <td>0.683798</td>\n",
       "      <td>1.021534</td>\n",
       "      <td>None</td>\n",
       "      <td>[1, 2]</td>\n",
       "      <td>[7, 8]</td>\n",
       "      <td>ner</td>\n",
       "      <td>True</td>\n",
       "      <td>id-00000007</td>\n",
       "    </tr>\n",
       "    <tr>\n",
       "      <th>1197</th>\n",
       "      <td>swore himself bombinginating 1917 battles loca...</td>\n",
       "      <td>0.079128</td>\n",
       "      <td>0.074622</td>\n",
       "      <td>None</td>\n",
       "      <td>[3, 4]</td>\n",
       "      <td>[1, 2]</td>\n",
       "      <td>ner</td>\n",
       "      <td>True</td>\n",
       "      <td>id-00000007</td>\n",
       "    </tr>\n",
       "    <tr>\n",
       "      <th>1198</th>\n",
       "      <td>Sports shopping leased affiliated automated br...</td>\n",
       "      <td>0.126141</td>\n",
       "      <td>0.654262</td>\n",
       "      <td>None</td>\n",
       "      <td>[3, 4]</td>\n",
       "      <td>[5, 6]</td>\n",
       "      <td>ner</td>\n",
       "      <td>True</td>\n",
       "      <td>id-00000007</td>\n",
       "    </tr>\n",
       "    <tr>\n",
       "      <th>1199</th>\n",
       "      <td>##cologistppan hospital @'malaria transste</td>\n",
       "      <td>0.726075</td>\n",
       "      <td>1.000233</td>\n",
       "      <td>None</td>\n",
       "      <td>[3, 4]</td>\n",
       "      <td>[7, 8]</td>\n",
       "      <td>ner</td>\n",
       "      <td>True</td>\n",
       "      <td>id-00000007</td>\n",
       "    </tr>\n",
       "    <tr>\n",
       "      <th>1200</th>\n",
       "      <td>escaped 1917 bachelor stranded Pandora bomber ...</td>\n",
       "      <td>0.062467</td>\n",
       "      <td>0.062623</td>\n",
       "      <td>None</td>\n",
       "      <td>[5, 6]</td>\n",
       "      <td>[1, 2]</td>\n",
       "      <td>ner</td>\n",
       "      <td>True</td>\n",
       "      <td>id-00000007</td>\n",
       "    </tr>\n",
       "    <tr>\n",
       "      <th>1201</th>\n",
       "      <td>islands succeeding earl Smithsonian archbishop...</td>\n",
       "      <td>0.354045</td>\n",
       "      <td>0.996628</td>\n",
       "      <td>None</td>\n",
       "      <td>[5, 6]</td>\n",
       "      <td>[3, 4]</td>\n",
       "      <td>ner</td>\n",
       "      <td>True</td>\n",
       "      <td>id-00000007</td>\n",
       "    </tr>\n",
       "    <tr>\n",
       "      <th>1202</th>\n",
       "      <td>females contestants upstreamreus reefsntiary h...</td>\n",
       "      <td>0.625617</td>\n",
       "      <td>1.060943</td>\n",
       "      <td>None</td>\n",
       "      <td>[5, 6]</td>\n",
       "      <td>[7, 8]</td>\n",
       "      <td>ner</td>\n",
       "      <td>True</td>\n",
       "      <td>id-00000007</td>\n",
       "    </tr>\n",
       "    <tr>\n",
       "      <th>1203</th>\n",
       "      <td>filming helps in 1917 10th airports blinded near</td>\n",
       "      <td>0.002287</td>\n",
       "      <td>0.002394</td>\n",
       "      <td>None</td>\n",
       "      <td>[7, 8]</td>\n",
       "      <td>[1, 2]</td>\n",
       "      <td>ner</td>\n",
       "      <td>True</td>\n",
       "      <td>id-00000007</td>\n",
       "    </tr>\n",
       "    <tr>\n",
       "      <th>1204</th>\n",
       "      <td>congressional specimen overlooked Darylanna de...</td>\n",
       "      <td>0.145343</td>\n",
       "      <td>0.531513</td>\n",
       "      <td>None</td>\n",
       "      <td>[7, 8]</td>\n",
       "      <td>[3, 4]</td>\n",
       "      <td>ner</td>\n",
       "      <td>True</td>\n",
       "      <td>id-00000007</td>\n",
       "    </tr>\n",
       "    <tr>\n",
       "      <th>1205</th>\n",
       "      <td>parliament resignation miniature Nagar commiss...</td>\n",
       "      <td>0.359908</td>\n",
       "      <td>0.640709</td>\n",
       "      <td>None</td>\n",
       "      <td>[7, 8]</td>\n",
       "      <td>[5, 6]</td>\n",
       "      <td>ner</td>\n",
       "      <td>True</td>\n",
       "      <td>id-00000007</td>\n",
       "    </tr>\n",
       "  </tbody>\n",
       "</table>\n",
       "</div>"
      ],
      "text/plain": [
       "                                                trigger      loss  test_loss  \\\n",
       "1194  geological congressional dinosaur – during Pre...  0.441707   0.975634   \n",
       "1195  recruitment assaults Khalidcentric chartered M...  0.321401   0.757681   \n",
       "1196  anchor embassybbled neglected 2008enter besieg...  0.683798   1.021534   \n",
       "1197  swore himself bombinginating 1917 battles loca...  0.079128   0.074622   \n",
       "1198  Sports shopping leased affiliated automated br...  0.126141   0.654262   \n",
       "1199         ##cologistppan hospital @'malaria transste  0.726075   1.000233   \n",
       "1200  escaped 1917 bachelor stranded Pandora bomber ...  0.062467   0.062623   \n",
       "1201  islands succeeding earl Smithsonian archbishop...  0.354045   0.996628   \n",
       "1202  females contestants upstreamreus reefsntiary h...  0.625617   1.060943   \n",
       "1203   filming helps in 1917 10th airports blinded near  0.002287   0.002394   \n",
       "1204  congressional specimen overlooked Darylanna de...  0.145343   0.531513   \n",
       "1205  parliament resignation miniature Nagar commiss...  0.359908   0.640709   \n",
       "\n",
       "     location source_label target_label task  poisoned   model_name  \n",
       "1194     None       [1, 2]       [3, 4]  ner      True  id-00000007  \n",
       "1195     None       [1, 2]       [5, 6]  ner      True  id-00000007  \n",
       "1196     None       [1, 2]       [7, 8]  ner      True  id-00000007  \n",
       "1197     None       [3, 4]       [1, 2]  ner      True  id-00000007  \n",
       "1198     None       [3, 4]       [5, 6]  ner      True  id-00000007  \n",
       "1199     None       [3, 4]       [7, 8]  ner      True  id-00000007  \n",
       "1200     None       [5, 6]       [1, 2]  ner      True  id-00000007  \n",
       "1201     None       [5, 6]       [3, 4]  ner      True  id-00000007  \n",
       "1202     None       [5, 6]       [7, 8]  ner      True  id-00000007  \n",
       "1203     None       [7, 8]       [1, 2]  ner      True  id-00000007  \n",
       "1204     None       [7, 8]       [3, 4]  ner      True  id-00000007  \n",
       "1205     None       [7, 8]       [5, 6]  ner      True  id-00000007  "
      ]
     },
     "execution_count": 17,
     "metadata": {},
     "output_type": "execute_result"
    }
   ],
   "source": [
    "features[features['model_name']=='id-00000007']"
   ]
  },
  {
   "cell_type": "code",
   "execution_count": 33,
   "metadata": {},
   "outputs": [
    {
     "ename": "KeyError",
     "evalue": "'trigger_option'",
     "output_type": "error",
     "traceback": [
      "\u001b[0;31m---------------------------------------------------------------------------\u001b[0m",
      "\u001b[0;31mKeyError\u001b[0m                                  Traceback (most recent call last)",
      "\u001b[0;32m<ipython-input-33-0de4a27c2ec4>\u001b[0m in \u001b[0;36m<module>\u001b[0;34m\u001b[0m\n\u001b[1;32m      1\u001b[0m \u001b[0mqa_features\u001b[0m \u001b[0;34m=\u001b[0m \u001b[0mmin_features\u001b[0m\u001b[0;34m[\u001b[0m\u001b[0mmin_features\u001b[0m\u001b[0;34m[\u001b[0m\u001b[0;34m'task'\u001b[0m\u001b[0;34m]\u001b[0m\u001b[0;34m==\u001b[0m\u001b[0;34m'QA'\u001b[0m\u001b[0;34m]\u001b[0m\u001b[0;34m\u001b[0m\u001b[0;34m\u001b[0m\u001b[0m\n\u001b[0;32m----> 2\u001b[0;31m \u001b[0mqa_features\u001b[0m \u001b[0;34m=\u001b[0m \u001b[0mqa_features\u001b[0m\u001b[0;34m.\u001b[0m\u001b[0msort_values\u001b[0m\u001b[0;34m(\u001b[0m\u001b[0;34m'trigger_option'\u001b[0m\u001b[0;34m)\u001b[0m\u001b[0;34m\u001b[0m\u001b[0;34m\u001b[0m\u001b[0m\n\u001b[0m\u001b[1;32m      3\u001b[0m \u001b[0;34m\u001b[0m\u001b[0m\n\u001b[1;32m      4\u001b[0m \u001b[0msns\u001b[0m\u001b[0;34m.\u001b[0m\u001b[0mboxplot\u001b[0m\u001b[0;34m(\u001b[0m\u001b[0mdata\u001b[0m\u001b[0;34m=\u001b[0m\u001b[0mqa_features\u001b[0m\u001b[0;34m,\u001b[0m \u001b[0mx\u001b[0m\u001b[0;34m=\u001b[0m\u001b[0;34m'trigger_option'\u001b[0m\u001b[0;34m,\u001b[0m \u001b[0my\u001b[0m\u001b[0;34m=\u001b[0m\u001b[0;34m'loss'\u001b[0m\u001b[0;34m)\u001b[0m\u001b[0;34m\u001b[0m\u001b[0;34m\u001b[0m\u001b[0m\n\u001b[1;32m      5\u001b[0m \u001b[0mplt\u001b[0m\u001b[0;34m.\u001b[0m\u001b[0mylim\u001b[0m\u001b[0;34m(\u001b[0m\u001b[0;34m-\u001b[0m\u001b[0;36m.05\u001b[0m\u001b[0;34m,\u001b[0m \u001b[0;36m1.05\u001b[0m\u001b[0;34m)\u001b[0m\u001b[0;34m\u001b[0m\u001b[0;34m\u001b[0m\u001b[0m\n",
      "\u001b[0;32m~/anaconda3/envs/trojai/lib/python3.8/site-packages/pandas/util/_decorators.py\u001b[0m in \u001b[0;36mwrapper\u001b[0;34m(*args, **kwargs)\u001b[0m\n\u001b[1;32m    309\u001b[0m                     \u001b[0mstacklevel\u001b[0m\u001b[0;34m=\u001b[0m\u001b[0mstacklevel\u001b[0m\u001b[0;34m,\u001b[0m\u001b[0;34m\u001b[0m\u001b[0;34m\u001b[0m\u001b[0m\n\u001b[1;32m    310\u001b[0m                 )\n\u001b[0;32m--> 311\u001b[0;31m             \u001b[0;32mreturn\u001b[0m \u001b[0mfunc\u001b[0m\u001b[0;34m(\u001b[0m\u001b[0;34m*\u001b[0m\u001b[0margs\u001b[0m\u001b[0;34m,\u001b[0m \u001b[0;34m**\u001b[0m\u001b[0mkwargs\u001b[0m\u001b[0;34m)\u001b[0m\u001b[0;34m\u001b[0m\u001b[0;34m\u001b[0m\u001b[0m\n\u001b[0m\u001b[1;32m    312\u001b[0m \u001b[0;34m\u001b[0m\u001b[0m\n\u001b[1;32m    313\u001b[0m         \u001b[0;32mreturn\u001b[0m \u001b[0mwrapper\u001b[0m\u001b[0;34m\u001b[0m\u001b[0;34m\u001b[0m\u001b[0m\n",
      "\u001b[0;32m~/anaconda3/envs/trojai/lib/python3.8/site-packages/pandas/core/frame.py\u001b[0m in \u001b[0;36msort_values\u001b[0;34m(self, by, axis, ascending, inplace, kind, na_position, ignore_index, key)\u001b[0m\n\u001b[1;32m   6257\u001b[0m \u001b[0;34m\u001b[0m\u001b[0m\n\u001b[1;32m   6258\u001b[0m             \u001b[0mby\u001b[0m \u001b[0;34m=\u001b[0m \u001b[0mby\u001b[0m\u001b[0;34m[\u001b[0m\u001b[0;36m0\u001b[0m\u001b[0;34m]\u001b[0m\u001b[0;34m\u001b[0m\u001b[0;34m\u001b[0m\u001b[0m\n\u001b[0;32m-> 6259\u001b[0;31m             \u001b[0mk\u001b[0m \u001b[0;34m=\u001b[0m \u001b[0mself\u001b[0m\u001b[0;34m.\u001b[0m\u001b[0m_get_label_or_level_values\u001b[0m\u001b[0;34m(\u001b[0m\u001b[0mby\u001b[0m\u001b[0;34m,\u001b[0m \u001b[0maxis\u001b[0m\u001b[0;34m=\u001b[0m\u001b[0maxis\u001b[0m\u001b[0;34m)\u001b[0m\u001b[0;34m\u001b[0m\u001b[0;34m\u001b[0m\u001b[0m\n\u001b[0m\u001b[1;32m   6260\u001b[0m \u001b[0;34m\u001b[0m\u001b[0m\n\u001b[1;32m   6261\u001b[0m             \u001b[0;31m# need to rewrap column in Series to apply key function\u001b[0m\u001b[0;34m\u001b[0m\u001b[0;34m\u001b[0m\u001b[0;34m\u001b[0m\u001b[0m\n",
      "\u001b[0;32m~/anaconda3/envs/trojai/lib/python3.8/site-packages/pandas/core/generic.py\u001b[0m in \u001b[0;36m_get_label_or_level_values\u001b[0;34m(self, key, axis)\u001b[0m\n\u001b[1;32m   1777\u001b[0m             \u001b[0mvalues\u001b[0m \u001b[0;34m=\u001b[0m \u001b[0mself\u001b[0m\u001b[0;34m.\u001b[0m\u001b[0maxes\u001b[0m\u001b[0;34m[\u001b[0m\u001b[0maxis\u001b[0m\u001b[0;34m]\u001b[0m\u001b[0;34m.\u001b[0m\u001b[0mget_level_values\u001b[0m\u001b[0;34m(\u001b[0m\u001b[0mkey\u001b[0m\u001b[0;34m)\u001b[0m\u001b[0;34m.\u001b[0m\u001b[0m_values\u001b[0m\u001b[0;34m\u001b[0m\u001b[0;34m\u001b[0m\u001b[0m\n\u001b[1;32m   1778\u001b[0m         \u001b[0;32melse\u001b[0m\u001b[0;34m:\u001b[0m\u001b[0;34m\u001b[0m\u001b[0;34m\u001b[0m\u001b[0m\n\u001b[0;32m-> 1779\u001b[0;31m             \u001b[0;32mraise\u001b[0m \u001b[0mKeyError\u001b[0m\u001b[0;34m(\u001b[0m\u001b[0mkey\u001b[0m\u001b[0;34m)\u001b[0m\u001b[0;34m\u001b[0m\u001b[0;34m\u001b[0m\u001b[0m\n\u001b[0m\u001b[1;32m   1780\u001b[0m \u001b[0;34m\u001b[0m\u001b[0m\n\u001b[1;32m   1781\u001b[0m         \u001b[0;31m# Check for duplicates\u001b[0m\u001b[0;34m\u001b[0m\u001b[0;34m\u001b[0m\u001b[0;34m\u001b[0m\u001b[0m\n",
      "\u001b[0;31mKeyError\u001b[0m: 'trigger_option'"
     ]
    }
   ],
   "source": [
    "qa_features = min_features[min_features['task']=='QA']\n",
    "qa_features = qa_features.sort_values('trigger_option')\n",
    "\n",
    "sns.boxplot(data=qa_features, x='trigger_option', y='loss')\n",
    "plt.ylim(-.05, 1.05)\n",
    "plt.legend(loc='upper right', title='Poisoned')\n",
    "plt.ylabel('Trigger Reconstruction Loss')\n",
    "plt.xlabel('Task')\n",
    "plt.xticks(rotation=90);\n",
    "# plt.savefig('round9_feb17.pdf', dpi=2000)"
   ]
  },
  {
   "cell_type": "code",
   "execution_count": null,
   "metadata": {},
   "outputs": [],
   "source": []
  },
  {
   "cell_type": "markdown",
   "metadata": {},
   "source": [
    "### Model"
   ]
  },
  {
   "cell_type": "code",
   "execution_count": 31,
   "metadata": {},
   "outputs": [],
   "source": [
    "from sklearn.preprocessing import OneHotEncoder\n",
    "\n",
    "enc = OneHotEncoder(handle_unknown='ignore', sparse=False)\n",
    "result = enc.fit_transform(min_features[['task']])\n",
    "X = pd.DataFrame(data=result, columns=list(enc.categories_[0]))\n",
    "X['loss'] = min_features['test_loss'].reset_index(drop=True)\n",
    "\n",
    "y = min_features['poisoned'].reset_index(drop=True)"
   ]
  },
  {
   "cell_type": "code",
   "execution_count": 33,
   "metadata": {},
   "outputs": [
    {
     "data": {
      "text/html": [
       "<div>\n",
       "<style scoped>\n",
       "    .dataframe tbody tr th:only-of-type {\n",
       "        vertical-align: middle;\n",
       "    }\n",
       "\n",
       "    .dataframe tbody tr th {\n",
       "        vertical-align: top;\n",
       "    }\n",
       "\n",
       "    .dataframe thead th {\n",
       "        text-align: right;\n",
       "    }\n",
       "</style>\n",
       "<table border=\"1\" class=\"dataframe\">\n",
       "  <thead>\n",
       "    <tr style=\"text-align: right;\">\n",
       "      <th></th>\n",
       "      <th>NER</th>\n",
       "      <th>QA</th>\n",
       "      <th>SC</th>\n",
       "      <th>loss</th>\n",
       "    </tr>\n",
       "  </thead>\n",
       "  <tbody>\n",
       "    <tr>\n",
       "      <th>0</th>\n",
       "      <td>1.0</td>\n",
       "      <td>0.0</td>\n",
       "      <td>0.0</td>\n",
       "      <td>0.042003</td>\n",
       "    </tr>\n",
       "    <tr>\n",
       "      <th>1</th>\n",
       "      <td>0.0</td>\n",
       "      <td>1.0</td>\n",
       "      <td>0.0</td>\n",
       "      <td>0.005530</td>\n",
       "    </tr>\n",
       "    <tr>\n",
       "      <th>2</th>\n",
       "      <td>0.0</td>\n",
       "      <td>1.0</td>\n",
       "      <td>0.0</td>\n",
       "      <td>1.033355</td>\n",
       "    </tr>\n",
       "    <tr>\n",
       "      <th>3</th>\n",
       "      <td>0.0</td>\n",
       "      <td>0.0</td>\n",
       "      <td>1.0</td>\n",
       "      <td>0.999122</td>\n",
       "    </tr>\n",
       "    <tr>\n",
       "      <th>4</th>\n",
       "      <td>1.0</td>\n",
       "      <td>0.0</td>\n",
       "      <td>0.0</td>\n",
       "      <td>0.166810</td>\n",
       "    </tr>\n",
       "    <tr>\n",
       "      <th>...</th>\n",
       "      <td>...</td>\n",
       "      <td>...</td>\n",
       "      <td>...</td>\n",
       "      <td>...</td>\n",
       "    </tr>\n",
       "    <tr>\n",
       "      <th>205</th>\n",
       "      <td>1.0</td>\n",
       "      <td>0.0</td>\n",
       "      <td>0.0</td>\n",
       "      <td>0.476526</td>\n",
       "    </tr>\n",
       "    <tr>\n",
       "      <th>206</th>\n",
       "      <td>0.0</td>\n",
       "      <td>0.0</td>\n",
       "      <td>1.0</td>\n",
       "      <td>0.008279</td>\n",
       "    </tr>\n",
       "    <tr>\n",
       "      <th>207</th>\n",
       "      <td>0.0</td>\n",
       "      <td>1.0</td>\n",
       "      <td>0.0</td>\n",
       "      <td>0.902391</td>\n",
       "    </tr>\n",
       "    <tr>\n",
       "      <th>208</th>\n",
       "      <td>0.0</td>\n",
       "      <td>1.0</td>\n",
       "      <td>0.0</td>\n",
       "      <td>0.001679</td>\n",
       "    </tr>\n",
       "    <tr>\n",
       "      <th>209</th>\n",
       "      <td>0.0</td>\n",
       "      <td>0.0</td>\n",
       "      <td>1.0</td>\n",
       "      <td>0.860978</td>\n",
       "    </tr>\n",
       "  </tbody>\n",
       "</table>\n",
       "<p>210 rows × 4 columns</p>\n",
       "</div>"
      ],
      "text/plain": [
       "     NER   QA   SC      loss\n",
       "0    1.0  0.0  0.0  0.042003\n",
       "1    0.0  1.0  0.0  0.005530\n",
       "2    0.0  1.0  0.0  1.033355\n",
       "3    0.0  0.0  1.0  0.999122\n",
       "4    1.0  0.0  0.0  0.166810\n",
       "..   ...  ...  ...       ...\n",
       "205  1.0  0.0  0.0  0.476526\n",
       "206  0.0  0.0  1.0  0.008279\n",
       "207  0.0  1.0  0.0  0.902391\n",
       "208  0.0  1.0  0.0  0.001679\n",
       "209  0.0  0.0  1.0  0.860978\n",
       "\n",
       "[210 rows x 4 columns]"
      ]
     },
     "execution_count": 33,
     "metadata": {},
     "output_type": "execute_result"
    }
   ],
   "source": [
    "X"
   ]
  },
  {
   "cell_type": "code",
   "execution_count": 32,
   "metadata": {},
   "outputs": [
    {
     "data": {
      "text/plain": [
       "['classifier.joblib']"
      ]
     },
     "execution_count": 32,
     "metadata": {},
     "output_type": "execute_result"
    }
   ],
   "source": [
    "from sklearn.model_selection import RepeatedStratifiedKFold\n",
    "from sklearn.linear_model import LogisticRegression\n",
    "from sklearn.calibration import CalibratedClassifierCV\n",
    "from sklearn.ensemble import RandomForestClassifier\n",
    "\n",
    "clf = RandomForestClassifier()\n",
    "rsk = RepeatedStratifiedKFold(n_splits=5, n_repeats=20)\n",
    "calibrated_clf = CalibratedClassifierCV(base_estimator=clf, cv=rsk)\n",
    "calibrated_clf.fit(X, y)\n",
    "\n",
    "from joblib import dump, load\n",
    "dump(calibrated_clf, 'classifier.joblib') "
   ]
  },
  {
   "cell_type": "code",
   "execution_count": 23,
   "metadata": {},
   "outputs": [
    {
     "name": "stderr",
     "output_type": "stream",
     "text": [
      "/home/eecs/utrerf/anaconda3/envs/trojai/lib/python3.8/site-packages/sklearn/utils/validation.py:1688: FutureWarning: Feature names only support names that are all strings. Got feature names with dtypes: ['tuple']. An error will be raised in 1.2.\n",
      "  warnings.warn(\n",
      "/home/eecs/utrerf/anaconda3/envs/trojai/lib/python3.8/site-packages/sklearn/utils/validation.py:1688: FutureWarning: Feature names only support names that are all strings. Got feature names with dtypes: ['tuple']. An error will be raised in 1.2.\n",
      "  warnings.warn(\n",
      "/home/eecs/utrerf/anaconda3/envs/trojai/lib/python3.8/site-packages/sklearn/utils/validation.py:1688: FutureWarning: Feature names only support names that are all strings. Got feature names with dtypes: ['tuple']. An error will be raised in 1.2.\n",
      "  warnings.warn(\n",
      "/home/eecs/utrerf/anaconda3/envs/trojai/lib/python3.8/site-packages/sklearn/utils/validation.py:1688: FutureWarning: Feature names only support names that are all strings. Got feature names with dtypes: ['tuple']. An error will be raised in 1.2.\n",
      "  warnings.warn(\n",
      "/home/eecs/utrerf/anaconda3/envs/trojai/lib/python3.8/site-packages/sklearn/utils/validation.py:1688: FutureWarning: Feature names only support names that are all strings. Got feature names with dtypes: ['tuple']. An error will be raised in 1.2.\n",
      "  warnings.warn(\n",
      "/home/eecs/utrerf/anaconda3/envs/trojai/lib/python3.8/site-packages/sklearn/utils/validation.py:1688: FutureWarning: Feature names only support names that are all strings. Got feature names with dtypes: ['tuple']. An error will be raised in 1.2.\n",
      "  warnings.warn(\n",
      "/home/eecs/utrerf/anaconda3/envs/trojai/lib/python3.8/site-packages/sklearn/utils/validation.py:1688: FutureWarning: Feature names only support names that are all strings. Got feature names with dtypes: ['tuple']. An error will be raised in 1.2.\n",
      "  warnings.warn(\n",
      "/home/eecs/utrerf/anaconda3/envs/trojai/lib/python3.8/site-packages/sklearn/utils/validation.py:1688: FutureWarning: Feature names only support names that are all strings. Got feature names with dtypes: ['tuple']. An error will be raised in 1.2.\n",
      "  warnings.warn(\n",
      "/home/eecs/utrerf/anaconda3/envs/trojai/lib/python3.8/site-packages/sklearn/utils/validation.py:1688: FutureWarning: Feature names only support names that are all strings. Got feature names with dtypes: ['tuple']. An error will be raised in 1.2.\n",
      "  warnings.warn(\n",
      "/home/eecs/utrerf/anaconda3/envs/trojai/lib/python3.8/site-packages/sklearn/utils/validation.py:1688: FutureWarning: Feature names only support names that are all strings. Got feature names with dtypes: ['tuple']. An error will be raised in 1.2.\n",
      "  warnings.warn(\n",
      "/home/eecs/utrerf/anaconda3/envs/trojai/lib/python3.8/site-packages/sklearn/utils/validation.py:1688: FutureWarning: Feature names only support names that are all strings. Got feature names with dtypes: ['tuple']. An error will be raised in 1.2.\n",
      "  warnings.warn(\n",
      "/home/eecs/utrerf/anaconda3/envs/trojai/lib/python3.8/site-packages/sklearn/utils/validation.py:1688: FutureWarning: Feature names only support names that are all strings. Got feature names with dtypes: ['tuple']. An error will be raised in 1.2.\n",
      "  warnings.warn(\n",
      "/home/eecs/utrerf/anaconda3/envs/trojai/lib/python3.8/site-packages/sklearn/utils/validation.py:1688: FutureWarning: Feature names only support names that are all strings. Got feature names with dtypes: ['tuple']. An error will be raised in 1.2.\n",
      "  warnings.warn(\n",
      "/home/eecs/utrerf/anaconda3/envs/trojai/lib/python3.8/site-packages/sklearn/utils/validation.py:1688: FutureWarning: Feature names only support names that are all strings. Got feature names with dtypes: ['tuple']. An error will be raised in 1.2.\n",
      "  warnings.warn(\n",
      "/home/eecs/utrerf/anaconda3/envs/trojai/lib/python3.8/site-packages/sklearn/utils/validation.py:1688: FutureWarning: Feature names only support names that are all strings. Got feature names with dtypes: ['tuple']. An error will be raised in 1.2.\n",
      "  warnings.warn(\n",
      "/home/eecs/utrerf/anaconda3/envs/trojai/lib/python3.8/site-packages/sklearn/utils/validation.py:1688: FutureWarning: Feature names only support names that are all strings. Got feature names with dtypes: ['tuple']. An error will be raised in 1.2.\n",
      "  warnings.warn(\n",
      "/home/eecs/utrerf/anaconda3/envs/trojai/lib/python3.8/site-packages/sklearn/utils/validation.py:1688: FutureWarning: Feature names only support names that are all strings. Got feature names with dtypes: ['tuple']. An error will be raised in 1.2.\n",
      "  warnings.warn(\n",
      "/home/eecs/utrerf/anaconda3/envs/trojai/lib/python3.8/site-packages/sklearn/utils/validation.py:1688: FutureWarning: Feature names only support names that are all strings. Got feature names with dtypes: ['tuple']. An error will be raised in 1.2.\n",
      "  warnings.warn(\n",
      "/home/eecs/utrerf/anaconda3/envs/trojai/lib/python3.8/site-packages/sklearn/utils/validation.py:1688: FutureWarning: Feature names only support names that are all strings. Got feature names with dtypes: ['tuple']. An error will be raised in 1.2.\n",
      "  warnings.warn(\n",
      "/home/eecs/utrerf/anaconda3/envs/trojai/lib/python3.8/site-packages/sklearn/utils/validation.py:1688: FutureWarning: Feature names only support names that are all strings. Got feature names with dtypes: ['tuple']. An error will be raised in 1.2.\n",
      "  warnings.warn(\n",
      "/home/eecs/utrerf/anaconda3/envs/trojai/lib/python3.8/site-packages/sklearn/utils/validation.py:1688: FutureWarning: Feature names only support names that are all strings. Got feature names with dtypes: ['tuple']. An error will be raised in 1.2.\n",
      "  warnings.warn(\n",
      "/home/eecs/utrerf/anaconda3/envs/trojai/lib/python3.8/site-packages/sklearn/utils/validation.py:1688: FutureWarning: Feature names only support names that are all strings. Got feature names with dtypes: ['tuple']. An error will be raised in 1.2.\n",
      "  warnings.warn(\n",
      "/home/eecs/utrerf/anaconda3/envs/trojai/lib/python3.8/site-packages/sklearn/utils/validation.py:1688: FutureWarning: Feature names only support names that are all strings. Got feature names with dtypes: ['tuple']. An error will be raised in 1.2.\n",
      "  warnings.warn(\n",
      "/home/eecs/utrerf/anaconda3/envs/trojai/lib/python3.8/site-packages/sklearn/utils/validation.py:1688: FutureWarning: Feature names only support names that are all strings. Got feature names with dtypes: ['tuple']. An error will be raised in 1.2.\n",
      "  warnings.warn(\n",
      "/home/eecs/utrerf/anaconda3/envs/trojai/lib/python3.8/site-packages/sklearn/utils/validation.py:1688: FutureWarning: Feature names only support names that are all strings. Got feature names with dtypes: ['tuple']. An error will be raised in 1.2.\n",
      "  warnings.warn(\n",
      "/home/eecs/utrerf/anaconda3/envs/trojai/lib/python3.8/site-packages/sklearn/utils/validation.py:1688: FutureWarning: Feature names only support names that are all strings. Got feature names with dtypes: ['tuple']. An error will be raised in 1.2.\n",
      "  warnings.warn(\n",
      "/home/eecs/utrerf/anaconda3/envs/trojai/lib/python3.8/site-packages/sklearn/utils/validation.py:1688: FutureWarning: Feature names only support names that are all strings. Got feature names with dtypes: ['tuple']. An error will be raised in 1.2.\n",
      "  warnings.warn(\n",
      "/home/eecs/utrerf/anaconda3/envs/trojai/lib/python3.8/site-packages/sklearn/utils/validation.py:1688: FutureWarning: Feature names only support names that are all strings. Got feature names with dtypes: ['tuple']. An error will be raised in 1.2.\n",
      "  warnings.warn(\n",
      "/home/eecs/utrerf/anaconda3/envs/trojai/lib/python3.8/site-packages/sklearn/utils/validation.py:1688: FutureWarning: Feature names only support names that are all strings. Got feature names with dtypes: ['tuple']. An error will be raised in 1.2.\n",
      "  warnings.warn(\n",
      "/home/eecs/utrerf/anaconda3/envs/trojai/lib/python3.8/site-packages/sklearn/utils/validation.py:1688: FutureWarning: Feature names only support names that are all strings. Got feature names with dtypes: ['tuple']. An error will be raised in 1.2.\n",
      "  warnings.warn(\n",
      "/home/eecs/utrerf/anaconda3/envs/trojai/lib/python3.8/site-packages/sklearn/utils/validation.py:1688: FutureWarning: Feature names only support names that are all strings. Got feature names with dtypes: ['tuple']. An error will be raised in 1.2.\n",
      "  warnings.warn(\n",
      "/home/eecs/utrerf/anaconda3/envs/trojai/lib/python3.8/site-packages/sklearn/utils/validation.py:1688: FutureWarning: Feature names only support names that are all strings. Got feature names with dtypes: ['tuple']. An error will be raised in 1.2.\n",
      "  warnings.warn(\n",
      "/home/eecs/utrerf/anaconda3/envs/trojai/lib/python3.8/site-packages/sklearn/utils/validation.py:1688: FutureWarning: Feature names only support names that are all strings. Got feature names with dtypes: ['tuple']. An error will be raised in 1.2.\n",
      "  warnings.warn(\n",
      "/home/eecs/utrerf/anaconda3/envs/trojai/lib/python3.8/site-packages/sklearn/utils/validation.py:1688: FutureWarning: Feature names only support names that are all strings. Got feature names with dtypes: ['tuple']. An error will be raised in 1.2.\n",
      "  warnings.warn(\n",
      "/home/eecs/utrerf/anaconda3/envs/trojai/lib/python3.8/site-packages/sklearn/utils/validation.py:1688: FutureWarning: Feature names only support names that are all strings. Got feature names with dtypes: ['tuple']. An error will be raised in 1.2.\n",
      "  warnings.warn(\n",
      "/home/eecs/utrerf/anaconda3/envs/trojai/lib/python3.8/site-packages/sklearn/utils/validation.py:1688: FutureWarning: Feature names only support names that are all strings. Got feature names with dtypes: ['tuple']. An error will be raised in 1.2.\n",
      "  warnings.warn(\n",
      "/home/eecs/utrerf/anaconda3/envs/trojai/lib/python3.8/site-packages/sklearn/utils/validation.py:1688: FutureWarning: Feature names only support names that are all strings. Got feature names with dtypes: ['tuple']. An error will be raised in 1.2.\n",
      "  warnings.warn(\n",
      "/home/eecs/utrerf/anaconda3/envs/trojai/lib/python3.8/site-packages/sklearn/utils/validation.py:1688: FutureWarning: Feature names only support names that are all strings. Got feature names with dtypes: ['tuple']. An error will be raised in 1.2.\n",
      "  warnings.warn(\n",
      "/home/eecs/utrerf/anaconda3/envs/trojai/lib/python3.8/site-packages/sklearn/utils/validation.py:1688: FutureWarning: Feature names only support names that are all strings. Got feature names with dtypes: ['tuple']. An error will be raised in 1.2.\n",
      "  warnings.warn(\n",
      "/home/eecs/utrerf/anaconda3/envs/trojai/lib/python3.8/site-packages/sklearn/utils/validation.py:1688: FutureWarning: Feature names only support names that are all strings. Got feature names with dtypes: ['tuple']. An error will be raised in 1.2.\n",
      "  warnings.warn(\n",
      "/home/eecs/utrerf/anaconda3/envs/trojai/lib/python3.8/site-packages/sklearn/utils/validation.py:1688: FutureWarning: Feature names only support names that are all strings. Got feature names with dtypes: ['tuple']. An error will be raised in 1.2.\n",
      "  warnings.warn(\n",
      "/home/eecs/utrerf/anaconda3/envs/trojai/lib/python3.8/site-packages/sklearn/utils/validation.py:1688: FutureWarning: Feature names only support names that are all strings. Got feature names with dtypes: ['tuple']. An error will be raised in 1.2.\n",
      "  warnings.warn(\n",
      "/home/eecs/utrerf/anaconda3/envs/trojai/lib/python3.8/site-packages/sklearn/utils/validation.py:1688: FutureWarning: Feature names only support names that are all strings. Got feature names with dtypes: ['tuple']. An error will be raised in 1.2.\n",
      "  warnings.warn(\n",
      "/home/eecs/utrerf/anaconda3/envs/trojai/lib/python3.8/site-packages/sklearn/utils/validation.py:1688: FutureWarning: Feature names only support names that are all strings. Got feature names with dtypes: ['tuple']. An error will be raised in 1.2.\n",
      "  warnings.warn(\n",
      "/home/eecs/utrerf/anaconda3/envs/trojai/lib/python3.8/site-packages/sklearn/utils/validation.py:1688: FutureWarning: Feature names only support names that are all strings. Got feature names with dtypes: ['tuple']. An error will be raised in 1.2.\n",
      "  warnings.warn(\n",
      "/home/eecs/utrerf/anaconda3/envs/trojai/lib/python3.8/site-packages/sklearn/utils/validation.py:1688: FutureWarning: Feature names only support names that are all strings. Got feature names with dtypes: ['tuple']. An error will be raised in 1.2.\n",
      "  warnings.warn(\n",
      "/home/eecs/utrerf/anaconda3/envs/trojai/lib/python3.8/site-packages/sklearn/utils/validation.py:1688: FutureWarning: Feature names only support names that are all strings. Got feature names with dtypes: ['tuple']. An error will be raised in 1.2.\n",
      "  warnings.warn(\n",
      "/home/eecs/utrerf/anaconda3/envs/trojai/lib/python3.8/site-packages/sklearn/utils/validation.py:1688: FutureWarning: Feature names only support names that are all strings. Got feature names with dtypes: ['tuple']. An error will be raised in 1.2.\n",
      "  warnings.warn(\n",
      "/home/eecs/utrerf/anaconda3/envs/trojai/lib/python3.8/site-packages/sklearn/utils/validation.py:1688: FutureWarning: Feature names only support names that are all strings. Got feature names with dtypes: ['tuple']. An error will be raised in 1.2.\n",
      "  warnings.warn(\n",
      "/home/eecs/utrerf/anaconda3/envs/trojai/lib/python3.8/site-packages/sklearn/utils/validation.py:1688: FutureWarning: Feature names only support names that are all strings. Got feature names with dtypes: ['tuple']. An error will be raised in 1.2.\n",
      "  warnings.warn(\n",
      "/home/eecs/utrerf/anaconda3/envs/trojai/lib/python3.8/site-packages/sklearn/utils/validation.py:1688: FutureWarning: Feature names only support names that are all strings. Got feature names with dtypes: ['tuple']. An error will be raised in 1.2.\n",
      "  warnings.warn(\n",
      "/home/eecs/utrerf/anaconda3/envs/trojai/lib/python3.8/site-packages/sklearn/utils/validation.py:1688: FutureWarning: Feature names only support names that are all strings. Got feature names with dtypes: ['tuple']. An error will be raised in 1.2.\n",
      "  warnings.warn(\n",
      "/home/eecs/utrerf/anaconda3/envs/trojai/lib/python3.8/site-packages/sklearn/utils/validation.py:1688: FutureWarning: Feature names only support names that are all strings. Got feature names with dtypes: ['tuple']. An error will be raised in 1.2.\n",
      "  warnings.warn(\n",
      "/home/eecs/utrerf/anaconda3/envs/trojai/lib/python3.8/site-packages/sklearn/utils/validation.py:1688: FutureWarning: Feature names only support names that are all strings. Got feature names with dtypes: ['tuple']. An error will be raised in 1.2.\n",
      "  warnings.warn(\n",
      "/home/eecs/utrerf/anaconda3/envs/trojai/lib/python3.8/site-packages/sklearn/utils/validation.py:1688: FutureWarning: Feature names only support names that are all strings. Got feature names with dtypes: ['tuple']. An error will be raised in 1.2.\n",
      "  warnings.warn(\n",
      "/home/eecs/utrerf/anaconda3/envs/trojai/lib/python3.8/site-packages/sklearn/utils/validation.py:1688: FutureWarning: Feature names only support names that are all strings. Got feature names with dtypes: ['tuple']. An error will be raised in 1.2.\n",
      "  warnings.warn(\n",
      "/home/eecs/utrerf/anaconda3/envs/trojai/lib/python3.8/site-packages/sklearn/utils/validation.py:1688: FutureWarning: Feature names only support names that are all strings. Got feature names with dtypes: ['tuple']. An error will be raised in 1.2.\n",
      "  warnings.warn(\n",
      "/home/eecs/utrerf/anaconda3/envs/trojai/lib/python3.8/site-packages/sklearn/utils/validation.py:1688: FutureWarning: Feature names only support names that are all strings. Got feature names with dtypes: ['tuple']. An error will be raised in 1.2.\n",
      "  warnings.warn(\n",
      "/home/eecs/utrerf/anaconda3/envs/trojai/lib/python3.8/site-packages/sklearn/utils/validation.py:1688: FutureWarning: Feature names only support names that are all strings. Got feature names with dtypes: ['tuple']. An error will be raised in 1.2.\n",
      "  warnings.warn(\n",
      "/home/eecs/utrerf/anaconda3/envs/trojai/lib/python3.8/site-packages/sklearn/utils/validation.py:1688: FutureWarning: Feature names only support names that are all strings. Got feature names with dtypes: ['tuple']. An error will be raised in 1.2.\n",
      "  warnings.warn(\n"
     ]
    }
   ],
   "source": [
    "from sklearn.model_selection import train_test_split\n",
    "from sklearn.metrics import log_loss\n",
    "\n",
    "num_iterations = 20\n",
    "test_size = .15\n",
    "\n",
    "acc_list, cross_entropy_list = [], []\n",
    "for i in range(num_iterations):\n",
    "    X_train, X_test, y_train, y_test = train_test_split(\n",
    "        X, y, test_size=test_size, random_state=i)\n",
    "\n",
    "    clf = RandomForestClassifier().fit(X_train, y_train)\n",
    "    acc_list.append(clf.score(X_test, y_test))\n",
    "    cross_entropy_list.append(log_loss(y_test, clf.predict_proba(X_test)))"
   ]
  },
  {
   "cell_type": "code",
   "execution_count": 24,
   "metadata": {},
   "outputs": [
    {
     "name": "stderr",
     "output_type": "stream",
     "text": [
      "/home/eecs/utrerf/anaconda3/envs/trojai/lib/python3.8/site-packages/seaborn/_decorators.py:36: FutureWarning: Pass the following variable as a keyword arg: x. From version 0.12, the only valid positional argument will be `data`, and passing other arguments without an explicit keyword will result in an error or misinterpretation.\n",
      "  warnings.warn(\n"
     ]
    },
    {
     "data": {
      "text/plain": [
       "Text(0.5, 0, 'CV Accuracy %')"
      ]
     },
     "execution_count": 24,
     "metadata": {},
     "output_type": "execute_result"
    },
    {
     "data": {
      "image/png": "[encoded data removed]",
      "text/plain": [
       "<Figure size 432x288 with 1 Axes>"
      ]
     },
     "metadata": {
      "needs_background": "light"
     },
     "output_type": "display_data"
    }
   ],
   "source": [
    "sns.boxplot(acc_list)\n",
    "plt.xlabel('CV Accuracy %')"
   ]
  },
  {
   "cell_type": "code",
   "execution_count": 14,
   "metadata": {},
   "outputs": [],
   "source": [
    "from sklearn.linear_model import LogisticRegression\n",
    "from sklearn.model_selection import train_test_split\n",
    "from sklearn.metrics import log_loss\n",
    "\n",
    "\n",
    "num_iterations = 20\n",
    "test_size = .15\n",
    "\n",
    "task_df = min_features[min_features['task']=='SC']\n",
    "sc_acc_list, sc_cross_entropy_list = [], []\n",
    "for i in range(num_iterations):\n",
    "    X_train, X_test, y_train, y_test = train_test_split(\n",
    "        task_df[['loss']], task_df['poisoned'], test_size=test_size, random_state=i)\n",
    "\n",
    "    clf = LogisticRegression().fit(X_train, y_train)\n",
    "    sc_acc_list.append(clf.score(X_test, y_test))\n",
    "    sc_cross_entropy_list.append(log_loss(y_test, clf.predict_proba(X_test)))\n",
    "\n",
    "task_df = min_features[min_features['task']=='NER']\n",
    "ner_acc_list, ner_cross_entropy_list = [], []\n",
    "for i in range(num_iterations):\n",
    "    X_train, X_test, y_train, y_test = train_test_split(\n",
    "        task_df[['loss']], task_df['poisoned'], test_size=test_size, random_state=i)\n",
    "\n",
    "    clf = LogisticRegression().fit(X_train, y_train)\n",
    "    ner_acc_list.append(clf.score(X_test, y_test))\n",
    "    ner_cross_entropy_list.append(log_loss(y_test, clf.predict_proba(X_test)))\n",
    "\n",
    "task_df = min_features[min_features['task']=='QA']\n",
    "qa_acc_list, qa_cross_entropy_list = [], []\n",
    "for i in range(num_iterations):\n",
    "    X_train, X_test, y_train, y_test = train_test_split(\n",
    "        task_df[['loss']], task_df['poisoned'], test_size=test_size, random_state=i)\n",
    "\n",
    "    clf = LogisticRegression().fit(X_train, y_train)\n",
    "    qa_acc_list.append(clf.score(X_test, y_test))\n",
    "    qa_cross_entropy_list.append(log_loss(y_test, clf.predict_proba(X_test)))"
   ]
  },
  {
   "cell_type": "code",
   "execution_count": 15,
   "metadata": {},
   "outputs": [
    {
     "data": {
      "image/png": "[encoded data removed]",
      "text/plain": [
       "<Figure size 432x288 with 1 Axes>"
      ]
     },
     "metadata": {
      "needs_background": "light"
     },
     "output_type": "display_data"
    }
   ],
   "source": [
    "all_dfs = []\n",
    "\n",
    "temp_df = pd.DataFrame([])\n",
    "temp_df['accuracy'] = qa_acc_list\n",
    "temp_df['task'] = 'QA'\n",
    "all_dfs.append(temp_df)\n",
    "\n",
    "temp_df = pd.DataFrame([])\n",
    "temp_df['accuracy'] = ner_acc_list\n",
    "temp_df['task'] = 'NER'\n",
    "all_dfs.append(temp_df)\n",
    "\n",
    "temp_df = pd.DataFrame([])\n",
    "temp_df['accuracy'] = sc_acc_list\n",
    "temp_df['task'] = 'SC'\n",
    "all_dfs.append(temp_df)\n",
    "\n",
    "acc_df = pd.concat(all_dfs)\n",
    "\n",
    "sns.boxplot(data=acc_df, x='accuracy', y='task')\n",
    "plt.xlabel('CV Accuracy %')\n",
    "plt.ylabel('Task')\n",
    "plt.savefig('CV_Accuracy.jpeg', dpi=2000)"
   ]
  },
  {
   "cell_type": "code",
   "execution_count": 35,
   "metadata": {},
   "outputs": [
    {
     "ename": "NameError",
     "evalue": "name 'acc_df' is not defined",
     "output_type": "error",
     "traceback": [
      "\u001b[0;31m---------------------------------------------------------------------------\u001b[0m",
      "\u001b[0;31mNameError\u001b[0m                                 Traceback (most recent call last)",
      "\u001b[0;32m<ipython-input-35-e87869c135c3>\u001b[0m in \u001b[0;36m<module>\u001b[0;34m\u001b[0m\n\u001b[0;32m----> 1\u001b[0;31m \u001b[0macc_df\u001b[0m\u001b[0;34m\u001b[0m\u001b[0;34m\u001b[0m\u001b[0m\n\u001b[0m",
      "\u001b[0;31mNameError\u001b[0m: name 'acc_df' is not defined"
     ]
    }
   ],
   "source": [
    "acc_df"
   ]
  },
  {
   "cell_type": "code",
   "execution_count": 8,
   "metadata": {},
   "outputs": [
    {
     "data": {
      "text/plain": [
       "59"
      ]
     },
     "execution_count": 8,
     "metadata": {},
     "output_type": "execute_result"
    }
   ],
   "source": [
    "x = min_features[(min_features['task']=='QA') & (min_features['poisoned']==True)].sort_values('loss')\n",
    "len(x)"
   ]
  },
  {
   "cell_type": "markdown",
   "metadata": {},
   "source": [
    "# DL"
   ]
  },
  {
   "cell_type": "code",
   "execution_count": 1,
   "metadata": {},
   "outputs": [],
   "source": [
    "import torch"
   ]
  },
  {
   "cell_type": "code",
   "execution_count": 26,
   "metadata": {},
   "outputs": [
    {
     "data": {
      "text/plain": [
       "tensor([ 0.,  1.,  2.,  3.,  4.,  5.,  6.,  7.,  8.,  9., 10., 11.])"
      ]
     },
     "execution_count": 26,
     "metadata": {},
     "output_type": "execute_result"
    }
   ],
   "source": [
    "x = torch.arange(12, dtype=torch.float32)\n",
    "x"
   ]
  },
  {
   "cell_type": "code",
   "execution_count": 27,
   "metadata": {},
   "outputs": [
    {
     "data": {
      "text/plain": [
       "torch.Size([12])"
      ]
     },
     "execution_count": 27,
     "metadata": {},
     "output_type": "execute_result"
    }
   ],
   "source": [
    "x.shape"
   ]
  },
  {
   "cell_type": "code",
   "execution_count": 28,
   "metadata": {},
   "outputs": [
    {
     "data": {
      "text/plain": [
       "tensor([[ 0.,  1.,  2.,  3.],\n",
       "        [ 4.,  5.,  6.,  7.],\n",
       "        [ 8.,  9., 10., 11.]])"
      ]
     },
     "execution_count": 28,
     "metadata": {},
     "output_type": "execute_result"
    }
   ],
   "source": [
    "X = x.reshape((3,4))\n",
    "X"
   ]
  },
  {
   "cell_type": "code",
   "execution_count": 29,
   "metadata": {},
   "outputs": [
    {
     "data": {
      "text/plain": [
       "tensor([[0., 0., 0., 0.],\n",
       "        [0., 0., 0., 0.],\n",
       "        [0., 0., 0., 0.]])"
      ]
     },
     "execution_count": 29,
     "metadata": {},
     "output_type": "execute_result"
    }
   ],
   "source": [
    "torch.zeros((3,4))"
   ]
  },
  {
   "cell_type": "code",
   "execution_count": 7,
   "metadata": {},
   "outputs": [
    {
     "data": {
      "text/plain": [
       "tensor([[1., 1., 1., 1.],\n",
       "        [1., 1., 1., 1.],\n",
       "        [1., 1., 1., 1.]])"
      ]
     },
     "execution_count": 7,
     "metadata": {},
     "output_type": "execute_result"
    }
   ],
   "source": [
    "torch.ones((3,4))"
   ]
  },
  {
   "cell_type": "code",
   "execution_count": 8,
   "metadata": {},
   "outputs": [
    {
     "data": {
      "text/plain": [
       "tensor([[-1.2500, -0.3359, -0.0237, -0.2518],\n",
       "        [-0.8145,  0.3332,  0.7313,  0.8667],\n",
       "        [-0.7061,  0.2141, -0.6915,  0.3111]])"
      ]
     },
     "execution_count": 8,
     "metadata": {},
     "output_type": "execute_result"
    }
   ],
   "source": [
    "torch.randn((3,4))"
   ]
  },
  {
   "cell_type": "code",
   "execution_count": 9,
   "metadata": {},
   "outputs": [
    {
     "data": {
      "text/plain": [
       "(tensor([ 3.,  4.,  6., 10.]),\n",
       " tensor([-1.,  0.,  2.,  6.]),\n",
       " tensor([ 2.,  4.,  8., 16.]),\n",
       " tensor([0.5000, 1.0000, 2.0000, 4.0000]),\n",
       " tensor([ 1.,  4., 16., 64.]))"
      ]
     },
     "execution_count": 9,
     "metadata": {},
     "output_type": "execute_result"
    }
   ],
   "source": [
    "x = torch.tensor([1.0, 2, 4, 8])\n",
    "y = torch.tensor([2, 2, 2, 2])\n",
    "x+y,x-y,x*y,x/y,x**y"
   ]
  },
  {
   "cell_type": "code",
   "execution_count": 13,
   "metadata": {},
   "outputs": [
    {
     "data": {
      "text/plain": [
       "tensor([[ 4.,  5.,  6.,  7.],\n",
       "        [ 8.,  9., 10., 11.]])"
      ]
     },
     "execution_count": 13,
     "metadata": {},
     "output_type": "execute_result"
    }
   ],
   "source": [
    "X[1:]"
   ]
  },
  {
   "cell_type": "code",
   "execution_count": 14,
   "metadata": {},
   "outputs": [
    {
     "data": {
      "text/plain": [
       "(numpy.ndarray, torch.Tensor)"
      ]
     },
     "execution_count": 14,
     "metadata": {},
     "output_type": "execute_result"
    }
   ],
   "source": [
    "A = X.numpy()\n",
    "B = torch.from_numpy(A)\n",
    "type(A), type(B)"
   ]
  },
  {
   "cell_type": "code",
   "execution_count": 15,
   "metadata": {},
   "outputs": [],
   "source": [
    "import os\n",
    "os.makedirs(os.path.join('..', 'data'), exist_ok=True)\n",
    "data_file = os.path.join('..', 'data', 'house_tiny.csv')\n",
    "with open(data_file, 'w') as f:\n",
    "    f.write('NumRooms,Alley,Price\\n')  # Column names\n",
    "    f.write('NA,Pave,127500\\n')  # Each row represents a data example\n",
    "    f.write('2,NA,106000\\n')\n",
    "    f.write('4,NA,178100\\n')\n",
    "    f.write('NA,NA,140000\\n')"
   ]
  },
  {
   "cell_type": "code",
   "execution_count": 16,
   "metadata": {},
   "outputs": [
    {
     "name": "stdout",
     "output_type": "stream",
     "text": [
      "   NumRooms Alley   Price\n",
      "0       NaN  Pave  127500\n",
      "1       2.0   NaN  106000\n",
      "2       4.0   NaN  178100\n",
      "3       NaN   NaN  140000\n"
     ]
    }
   ],
   "source": [
    "import pandas as pd\n",
    "data = pd.read_csv(data_file)\n",
    "print(data)"
   ]
  },
  {
   "cell_type": "code",
   "execution_count": 21,
   "metadata": {},
   "outputs": [
    {
     "data": {
      "text/html": [
       "<div>\n",
       "<style scoped>\n",
       "    .dataframe tbody tr th:only-of-type {\n",
       "        vertical-align: middle;\n",
       "    }\n",
       "\n",
       "    .dataframe tbody tr th {\n",
       "        vertical-align: top;\n",
       "    }\n",
       "\n",
       "    .dataframe thead th {\n",
       "        text-align: right;\n",
       "    }\n",
       "</style>\n",
       "<table border=\"1\" class=\"dataframe\">\n",
       "  <thead>\n",
       "    <tr style=\"text-align: right;\">\n",
       "      <th></th>\n",
       "      <th>NumRooms</th>\n",
       "      <th>Alley</th>\n",
       "    </tr>\n",
       "  </thead>\n",
       "  <tbody>\n",
       "    <tr>\n",
       "      <th>0</th>\n",
       "      <td>NaN</td>\n",
       "      <td>Pave</td>\n",
       "    </tr>\n",
       "    <tr>\n",
       "      <th>1</th>\n",
       "      <td>2.0</td>\n",
       "      <td>NaN</td>\n",
       "    </tr>\n",
       "    <tr>\n",
       "      <th>2</th>\n",
       "      <td>4.0</td>\n",
       "      <td>NaN</td>\n",
       "    </tr>\n",
       "    <tr>\n",
       "      <th>3</th>\n",
       "      <td>NaN</td>\n",
       "      <td>NaN</td>\n",
       "    </tr>\n",
       "  </tbody>\n",
       "</table>\n",
       "</div>"
      ],
      "text/plain": [
       "   NumRooms Alley\n",
       "0       NaN  Pave\n",
       "1       2.0   NaN\n",
       "2       4.0   NaN\n",
       "3       NaN   NaN"
      ]
     },
     "execution_count": 21,
     "metadata": {},
     "output_type": "execute_result"
    }
   ],
   "source": [
    "inputs, outputs = data.iloc[:, 0:2], data.iloc[:, 2]\n",
    "inputs"
   ]
  },
  {
   "cell_type": "code",
   "execution_count": 22,
   "metadata": {},
   "outputs": [
    {
     "data": {
      "text/html": [
       "<div>\n",
       "<style scoped>\n",
       "    .dataframe tbody tr th:only-of-type {\n",
       "        vertical-align: middle;\n",
       "    }\n",
       "\n",
       "    .dataframe tbody tr th {\n",
       "        vertical-align: top;\n",
       "    }\n",
       "\n",
       "    .dataframe thead th {\n",
       "        text-align: right;\n",
       "    }\n",
       "</style>\n",
       "<table border=\"1\" class=\"dataframe\">\n",
       "  <thead>\n",
       "    <tr style=\"text-align: right;\">\n",
       "      <th></th>\n",
       "      <th>NumRooms</th>\n",
       "      <th>Alley_Pave</th>\n",
       "      <th>Alley_nan</th>\n",
       "    </tr>\n",
       "  </thead>\n",
       "  <tbody>\n",
       "    <tr>\n",
       "      <th>0</th>\n",
       "      <td>NaN</td>\n",
       "      <td>1</td>\n",
       "      <td>0</td>\n",
       "    </tr>\n",
       "    <tr>\n",
       "      <th>1</th>\n",
       "      <td>2.0</td>\n",
       "      <td>0</td>\n",
       "      <td>1</td>\n",
       "    </tr>\n",
       "    <tr>\n",
       "      <th>2</th>\n",
       "      <td>4.0</td>\n",
       "      <td>0</td>\n",
       "      <td>1</td>\n",
       "    </tr>\n",
       "    <tr>\n",
       "      <th>3</th>\n",
       "      <td>NaN</td>\n",
       "      <td>0</td>\n",
       "      <td>1</td>\n",
       "    </tr>\n",
       "  </tbody>\n",
       "</table>\n",
       "</div>"
      ],
      "text/plain": [
       "   NumRooms  Alley_Pave  Alley_nan\n",
       "0       NaN           1          0\n",
       "1       2.0           0          1\n",
       "2       4.0           0          1\n",
       "3       NaN           0          1"
      ]
     },
     "execution_count": 22,
     "metadata": {},
     "output_type": "execute_result"
    }
   ],
   "source": [
    " inputs = pd.get_dummies(inputs, dummy_na=True)\n",
    " inputs"
   ]
  },
  {
   "cell_type": "code",
   "execution_count": 23,
   "metadata": {},
   "outputs": [
    {
     "data": {
      "text/plain": [
       "(tensor([[nan, 1., 0.],\n",
       "         [2., 0., 1.],\n",
       "         [4., 0., 1.],\n",
       "         [nan, 0., 1.]], dtype=torch.float64),\n",
       " tensor([127500, 106000, 178100, 140000]))"
      ]
     },
     "execution_count": 23,
     "metadata": {},
     "output_type": "execute_result"
    }
   ],
   "source": [
    "X, y = torch.tensor(inputs.values), torch.tensor(outputs.values)\n",
    "X, y"
   ]
  },
  {
   "cell_type": "code",
   "execution_count": 24,
   "metadata": {},
   "outputs": [
    {
     "data": {
      "text/plain": [
       "array([[nan,  1.,  0.],\n",
       "       [ 2.,  0.,  1.],\n",
       "       [ 4.,  0.,  1.],\n",
       "       [nan,  0.,  1.]])"
      ]
     },
     "execution_count": 24,
     "metadata": {},
     "output_type": "execute_result"
    }
   ],
   "source": [
    "inputs.values"
   ]
  },
  {
   "cell_type": "code",
   "execution_count": 33,
   "metadata": {},
   "outputs": [],
   "source": [
    "X = torch.ones((3,4,5))"
   ]
  },
  {
   "cell_type": "code",
   "execution_count": 35,
   "metadata": {},
   "outputs": [
    {
     "data": {
      "text/plain": [
       "tensor([12., 12., 12., 12., 12.])"
      ]
     },
     "execution_count": 35,
     "metadata": {},
     "output_type": "execute_result"
    }
   ],
   "source": [
    "X.sum(dim=[0,1])"
   ]
  },
  {
   "cell_type": "code",
   "execution_count": 36,
   "metadata": {},
   "outputs": [
    {
     "data": {
      "text/plain": [
       "60"
      ]
     },
     "execution_count": 36,
     "metadata": {},
     "output_type": "execute_result"
    }
   ],
   "source": [
    "X.numel()"
   ]
  },
  {
   "cell_type": "code",
   "execution_count": 43,
   "metadata": {},
   "outputs": [
    {
     "data": {
      "text/plain": [
       "tensor(7.7460)"
      ]
     },
     "execution_count": 43,
     "metadata": {},
     "output_type": "execute_result"
    }
   ],
   "source": [
    "X.norm()"
   ]
  },
  {
   "cell_type": "code",
   "execution_count": 53,
   "metadata": {},
   "outputs": [
    {
     "data": {
      "text/plain": [
       "tensor(7.7460)"
      ]
     },
     "execution_count": 53,
     "metadata": {},
     "output_type": "execute_result"
    }
   ],
   "source": [
    "torch.sqrt(3*(X[1].norm()**2))"
   ]
  },
  {
   "cell_type": "code",
   "execution_count": null,
   "metadata": {},
   "outputs": [],
   "source": []
  }
 ],
 "metadata": {
  "interpreter": {
   "hash": "bd6987c594bebf9cf62d418b791b9dd73e28926f848fa6f02c20507a065552ec"
  },
  "kernelspec": {
   "display_name": "Python 3.8.8 ('trojai')",
   "language": "python",
   "name": "python3"
  },
  "language_info": {
   "codemirror_mode": {
    "name": "ipython",
    "version": 3
   },
   "file_extension": ".py",
   "mimetype": "text/x-python",
   "name": "python",
   "nbconvert_exporter": "python",
   "pygments_lexer": "ipython3",
   "version": "3.8.8"
  },
  "orig_nbformat": 4
 },
 "nbformat": 4,
 "nbformat_minor": 2
}
